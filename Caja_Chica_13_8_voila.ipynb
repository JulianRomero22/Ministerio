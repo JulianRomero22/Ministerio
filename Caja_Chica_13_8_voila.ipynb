{
 "cells": [
  {
   "cell_type": "code",
   "metadata": {},
   "source": "# --- Setup for Voila/Binder/Jupyter (works also in Colab without google.colab) ---\nimport os\nfrom pathlib import Path\n\ndef find_data_file(candidates):\n    \"\"\"\n    Look for the first existing file among `candidates` in the current working directory (and a few common spots).\n    Returns an absolute Path or None.\n    \"\"\"\n    cwd = Path.cwd()\n    search_dirs = [cwd, cwd / \"data\", cwd.parent, cwd.parent / \"data\"]\n    for d in search_dirs:\n        for name in candidates:\n            p = (d / name).resolve()\n            if p.exists():\n                return p\n    # Fallback: shallow scan in cwd for close matches\n    for p in cwd.glob(\"**/*\"):\n        if p.is_file() and any(name.lower() in p.name.lower() for name in candidates):\n            return p.resolve()\n    return None\n\n# Put the most likely filenames here; adjust if needed\nCANDIDATES = [\"CajaChica13-8.txt\", \"Caja_Chica_13_8.txt\", \"caja_chica.txt\"]\n\nDATA_FILE = find_data_file(CANDIDATES)\nif DATA_FILE is None:\n    print(\"⚠️ No se encontró ninguno de estos archivos:\", CANDIDATES)\n    print(\"Colocá el archivo de datos en la misma carpeta del notebook o en una subcarpeta 'data/'.\")\nelse:\n    print(\"✅ Archivo de datos detectado en:\", DATA_FILE)",
   "outputs": [],
   "execution_count": null
  },
  {
   "cell_type": "code",
   "execution_count": 1,
   "metadata": {
    "id": "CdJ0g6-c_s5S"
   },
   "outputs": [
    {
     "name": "stdout",
     "output_type": "stream",
     "text": [
      "Archivo cargado correctamente. Primeros 200 caracteres:\n",
      "voila==0.5.5\n",
      "ipywidgets==8.1.1\n",
      "notebook==7.0.6\n",
      "jupyterlab==4.0.10\n",
      "numpy\n",
      "pandas\n",
      "matplotlib\n",
      "https://mybinder.org/v2/gh/JulianRomero22/Ministerio/main?urlpath=voila/render/Caja_Chica_13_8.ipynb\n",
      "\n"
     ]
    }
   ],
   "source": "import pandas as pd\nimport matplotlib.pyplot as plt\nimport seaborn as sb\nimport os\n\ntry:\n# (disabled for Voila/Binder)     from google.colab import drive\n    IN_COLAB = True\nexcept ModuleNotFoundError:\n    IN_COLAB = False\n\nif IN_COLAB:\n    # Montar Google Drive en Colab\n# (disabled for Voila/Binder)     drive.mount('/content/drive')\n    # Cambiar directorio a donde está tu archivo\n    notebook_path = '/content/drive/MyDrive/RUTA/DEL/ARCHIVO/Caja_Chica_13_8.txt'\nelse:\n    # En Jupyter local\n    notebook_path = os.path.join(os.getcwd(), 'CajaChica13-8.txt')\n\n# Ahora podés abrir tu archivo de manera unificada\nwith open(notebook_path, 'r', encoding='utf-8') as f:\n    data = f.read()\n\nprint(\"Archivo cargado correctamente. Primeros 200 caracteres:\")\nprint(data[:200])"
  },
  {
   "cell_type": "code",
   "execution_count": 13,
   "metadata": {
    "colab": {
     "base_uri": "https://localhost:8080/"
    },
    "id": "-g3QnLj7x_sy",
    "outputId": "f9717e40-32f5-4fc0-93ce-25d63397e0d1"
   },
   "outputs": [
    {
     "ename": "SyntaxError",
     "evalue": "invalid decimal literal (1149015244.py, line 1)",
     "output_type": "error",
     "traceback": [
      "\u001b[1;36m  Cell \u001b[1;32mIn[13], line 1\u001b[1;36m\u001b[0m\n\u001b[1;33m    devengado_2024_df = /content/drive/My Drive/Devengado 2024.xlsx\u001b[0m\n\u001b[1;37m                                                              ^\u001b[0m\n\u001b[1;31mSyntaxError\u001b[0m\u001b[1;31m:\u001b[0m invalid decimal literal\n"
     ]
    }
   ],
   "source": "# (disabled for Voila/Binder) from google.colab import drive\n# (disabled for Voila/Binder) drive.mount('/content/drive')"
  },
  {
   "cell_type": "code",
   "execution_count": 2,
   "metadata": {
    "colab": {
     "base_uri": "https://localhost:8080/",
     "height": 1000
    },
    "id": "78136692-854d-4105-a4c0-b37b6456a051",
    "outputId": "12f4ffac-b2fd-4b91-dd9d-e98c2a724da6"
   },
   "outputs": [],
   "source": [
    "# Replace '/content/drive/My Drive/path/to/your/file/' with the actual path to your files\n"
   ]
  },
  {
   "cell_type": "code",
   "execution_count": 3,
   "metadata": {
    "colab": {
     "base_uri": "https://localhost:8080/"
    },
    "id": "c6e5a56c",
    "outputId": "4dbaff6d-5839-4ca2-990e-41db05ec08ff"
   },
   "outputs": [
    {
     "name": "stdout",
     "output_type": "stream",
     "text": [
      "Information about Devengado 2024 DataFrame:\n"
     ]
    },
    {
     "ename": "NameError",
     "evalue": "name 'devengado_2024_df' is not defined",
     "output_type": "error",
     "traceback": [
      "\u001b[1;31m---------------------------------------------------------------------------\u001b[0m",
      "\u001b[1;31mNameError\u001b[0m                                 Traceback (most recent call last)",
      "Cell \u001b[1;32mIn[3], line 2\u001b[0m\n\u001b[0;32m      1\u001b[0m \u001b[38;5;28mprint\u001b[39m(\u001b[38;5;124m\"\u001b[39m\u001b[38;5;124mInformation about Devengado 2024 DataFrame:\u001b[39m\u001b[38;5;124m\"\u001b[39m)\n\u001b[1;32m----> 2\u001b[0m devengado_2024_df\u001b[38;5;241m.\u001b[39minfo()\n\u001b[0;32m      4\u001b[0m \u001b[38;5;28mprint\u001b[39m(\u001b[38;5;124m\"\u001b[39m\u001b[38;5;130;01m\\n\u001b[39;00m\u001b[38;5;124mInformation about Devengado 2025 DataFrame:\u001b[39m\u001b[38;5;124m\"\u001b[39m)\n\u001b[0;32m      5\u001b[0m devengado_2025_df\u001b[38;5;241m.\u001b[39minfo()\n",
      "\u001b[1;31mNameError\u001b[0m: name 'devengado_2024_df' is not defined"
     ]
    }
   ],
   "source": [
    "print(\"Information about Devengado 2024 DataFrame:\")\n",
    "devengado_2024_df.info()\n",
    "\n",
    "print(\"\\nInformation about Devengado 2025 DataFrame:\")\n",
    "devengado_2025_df.info()"
   ]
  },
  {
   "cell_type": "code",
   "execution_count": null,
   "metadata": {
    "colab": {
     "base_uri": "https://localhost:8080/",
     "height": 798
    },
    "id": "817bee36",
    "outputId": "6d066bc5-3c73-4ce4-fc52-b38437666337"
   },
   "outputs": [],
   "source": [
    "# Homogeneizamos columnas\n",
    "def homogenize_columns(df):\n",
    "    cols = df.columns\n",
    "    new_cols = []\n",
    "    for col in cols:\n",
    "        new_col = col.lower()\n",
    "        new_col = new_col.replace(' ', '_')\n",
    "        new_cols.append(new_col)\n",
    "    df.columns = new_cols\n",
    "    return df\n",
    "\n",
    "# Para ambos df\n",
    "devengado_2024_df = homogenize_columns(devengado_2024_df)\n",
    "devengado_2025_df = homogenize_columns(devengado_2025_df)\n",
    "\n",
    "print(\"Homogenized columns for devengado_2024_df:\")\n",
    "display(devengado_2024_df.columns)\n",
    "\n",
    "print(\"\\nHomogenized columns for devengado_2025_df:\")\n",
    "display(devengado_2025_df.columns)"
   ]
  },
  {
   "cell_type": "code",
   "execution_count": null,
   "metadata": {
    "colab": {
     "base_uri": "https://localhost:8080/",
     "height": 530
    },
    "id": "0bc63e4e",
    "outputId": "ad37dcdb-e40a-4110-ca87-68f7ac59d852"
   },
   "outputs": [],
   "source": [
    "columns_to_numeric_2024 = [\n",
    "    'cantidad_',\n",
    "    'importe_unitario_',\n",
    "    'importe_por_item_',\n",
    "]\n",
    "\n",
    "# Define the list of columns to convert to numeric for devengado_2025_df\n",
    "columns_to_numeric_2025 = [\n",
    "    'cantidad_',\n",
    "    'importe_unitario_',\n",
    "    'importe_por_item_',\n",
    "]\n",
    "\n",
    "for col in columns_to_numeric_2024:\n",
    "    if col in devengado_2024_df.columns:\n",
    "        devengado_2024_df[col] = pd.to_numeric(devengado_2024_df[col], errors='coerce')\n",
    "        print(f\"Converted '{col}' to numeric in devengado_2024_df.\")\n",
    "    else:\n",
    "        print(f\"Column '{col}' not found in devengado_2024_df.\")\n",
    "\n",
    "for col in columns_to_numeric_2025:\n",
    "    if col in devengado_2025_df.columns:\n",
    "        devengado_2025_df[col] = pd.to_numeric(devengado_2025_df[col], errors='coerce')\n",
    "        print(f\"Converted '{col}' to numeric in devengado_2025_df.\")\n",
    "    else:\n",
    "        print(f\"Column '{col}' not found in devengado_2025_df.\")\n",
    "\n",
    "\n",
    "print(\"\\nData types after converting columns to numeric:\")\n",
    "print(\"Devengado 2024:\")\n",
    "display(devengado_2024_df[columns_to_numeric_2024].dtypes)\n",
    "\n",
    "print(\"\\nDevengado 2025:\")\n",
    "display(devengado_2025_df[columns_to_numeric_2025].dtypes)"
   ]
  },
  {
   "cell_type": "code",
   "execution_count": null,
   "metadata": {
    "colab": {
     "base_uri": "https://localhost:8080/",
     "height": 312
    },
    "id": "c8d49de1",
    "outputId": "e661cb8e-016c-41eb-ffc3-af6fa4f19399"
   },
   "outputs": [],
   "source": [
    "columns_to_keep_homogenized = [\n",
    "    'tipo_doc_respaldo_',\n",
    "    'n°_doc_respaldo_',\n",
    "    'expediente_',\n",
    "    'estado_',\n",
    "    'grupo_',\n",
    "    'descripcion_del_bien_',\n",
    "    'cantidad_',\n",
    "    'importe_unitario_',\n",
    "    'importe_por_item_',\n",
    "    'fecha_comp_',\n",
    "    'mes_comp_',\n",
    "    'estado_item_',\n",
    "    'n°_objeto_gasto_',\n",
    "    'ofic_solicitante_',\n",
    "    'programa_',\n",
    "    'estado_compromiso_',\n",
    "    'referencia_',\n",
    "    'letra_cch_',\n",
    "    'letra_fondo_'\n",
    "]\n",
    "\n",
    "# Drop columns from devengado_2024_df\n",
    "columns_to_drop_2024 = [col for col in devengado_2024_df.columns if col not in columns_to_keep_homogenized]\n",
    "devengado_2024_df = devengado_2024_df.drop(columns=columns_to_drop_2024)\n",
    "\n",
    "# Drop columns from devengado_2025_df\n",
    "columns_to_drop_2025 = [col for col in devengado_2025_df.columns if col not in columns_to_keep_homogenized]\n",
    "devengado_2025_df = devengado_2025_df.drop(columns=columns_to_drop_2025)\n",
    "\n",
    "print(\"Columns remaining in devengado_2024_df after dropping columns:\")\n",
    "display(devengado_2024_df.columns)\n",
    "\n",
    "print(\"\\nColumns remaining in devengado_2025_df after dropping columns:\")\n",
    "display(devengado_2025_df.columns)"
   ]
  },
  {
   "cell_type": "code",
   "execution_count": null,
   "metadata": {
    "colab": {
     "base_uri": "https://localhost:8080/",
     "height": 1000
    },
    "id": "1d465266",
    "outputId": "34accd8f-4c50-4ab7-dfd8-0abc2c35c66b"
   },
   "outputs": [],
   "source": [
    "# Concatenate the two dataframes\n",
    "devengado_combined_df = pd.concat([devengado_2024_df, devengado_2025_df], ignore_index=True)\n",
    "\n",
    "print(\"First 5 rows of the combined dataframe:\")\n",
    "display(devengado_combined_df.head())\n",
    "\n",
    "print(\"\\nLast 5 rows of the combined dataframe:\")\n",
    "display(devengado_combined_df.tail())\n",
    "\n",
    "print(\"\\nInformation about the combined dataframe:\")\n",
    "devengado_combined_df.info()"
   ]
  },
  {
   "cell_type": "code",
   "execution_count": null,
   "metadata": {
    "colab": {
     "base_uri": "https://localhost:8080/"
    },
    "id": "3wgBien9P-OF",
    "outputId": "f3426cfc-a343-4635-d560-f8083c5feafc"
   },
   "outputs": [],
   "source": [
    "# Cargamos los IPC a precios base\n",
    "\n",
    "datos2= {'Fecha': ['01-24', '02-24', '03-24', '04-24', '05-24', '06-24', '07-24', '08-24', '09-24', '10-24', '11-24', '12-24', '01-25', '02-25', '03-25', '04-25', '05-25', '06-25'], 'ipc':[2.0455, 1.8045, 1.6255, 1.5229, 1.4631, 1.4109, 1.3520, 1.2910, 1.2455, 1.2183, 1.1780, 1.1383, 1.1134, 1.0741, 1.0452, 1.0199, 1.0000, 0.9786]}\n",
    "ipc_gral=pd.DataFrame(datos2)\n",
    "ipc_gral['Fecha'] = pd.to_datetime('20' + ipc_gral['Fecha'].str[-2:] + '-' + ipc_gral['Fecha'].str[:2] + '-01')\n",
    "print(ipc_gral)\n",
    "\n",
    "datos3= {'Fecha': ['01-24', '02-24', '03-24', '04-24', '05-24', '06-24', '07-24', '08-24', '09-24', '10-24', '11-24', '12-24', '01-25', '02-25', '03-25', '04-25', '05-25', '06-25'], 'Medicamentos': [1.7269, 1.6189, 1.3671, 1.3420, 1.3081, 1.2635, 1.2173, 1.1874, 1.1577, 1.1361, 1.0848, 1.0861, 1.0751, 1.0543, 1.0390, 1.0271, 1.00, 0.9861], 'Descartables': [1.3598, 1.2347, 1.1802, 1.1228, 1.0692, 1.0574, 1.0659, 1.0470, 1.0308, 1.0239, 1.0408, 1.0412, 1.0414, 1.0591, 1.0431, 1.0178, 1.00, 0.9807 ]}\n",
    "ipc_may25= pd.DataFrame(datos3)\n",
    "ipc_may25['Fecha'] = pd.to_datetime('20' + ipc_may25['Fecha'].str[-2:] + '-' + ipc_may25['Fecha'].str[:2] + '-01')\n",
    "\n",
    "print(ipc_may25)"
   ]
  },
  {
   "cell_type": "code",
   "execution_count": null,
   "metadata": {
    "colab": {
     "base_uri": "https://localhost:8080/",
     "height": 985
    },
    "id": "3777bf43",
    "outputId": "46f31582-8e22-4fb9-810e-1c34b4c39211"
   },
   "outputs": [],
   "source": [
    "# Convert 'fecha_comp_' to datetime and create 'month_year' column in devengado_combined_df\n",
    "devengado_combined_df['fecha_comp_datetime'] = pd.to_datetime(devengado_combined_df['fecha_comp_'].str.strip(), format='%d/%m/%Y', errors='coerce')\n",
    "devengado_combined_df['month_year'] = devengado_combined_df['fecha_comp_datetime'].dt.to_period('M').dt.to_timestamp()\n",
    "\n",
    "# Merge with ipc_gral\n",
    "merged_df = pd.merge(devengado_combined_df, ipc_gral, left_on='month_year', right_on='Fecha', how='left')\n",
    "\n",
    "# Drop the duplicate 'Fecha' column from the merge\n",
    "merged_df = merged_df.drop('Fecha', axis=1)\n",
    "\n",
    "# Merge with ipc_may25\n",
    "merged_df = pd.merge(merged_df, ipc_may25, left_on='month_year', right_on='Fecha', how='left')\n",
    "\n",
    "# Drop the duplicate 'Fecha' column from the merge\n",
    "merged_df = merged_df.drop('Fecha', axis=1)\n",
    "\n",
    "print(\"First 5 rows of the merged dataframe:\")\n",
    "display(merged_df.head())\n",
    "\n",
    "print(\"\\nInformation about the merged dataframe:\")\n",
    "merged_df.info()"
   ]
  },
  {
   "cell_type": "code",
   "execution_count": null,
   "metadata": {
    "colab": {
     "base_uri": "https://localhost:8080/",
     "height": 412
    },
    "id": "2a624f5f",
    "outputId": "d0d35275-1101-48a4-8df6-f2c07264dc0e"
   },
   "outputs": [],
   "source": [
    "missing_ipc_rows = merged_df[merged_df['month_year'].isna()]\n",
    "print(\"Rows with missing date or IPC values:\")\n",
    "display(missing_ipc_rows.head())\n",
    "\n",
    "print(f\"\\nNumber of rows with missing date or IPC values: {len(missing_ipc_rows)}\")"
   ]
  },
  {
   "cell_type": "code",
   "execution_count": null,
   "metadata": {
    "colab": {
     "base_uri": "https://localhost:8080/",
     "height": 577
    },
    "id": "cff4fc0f",
    "outputId": "6fc7c594-cf3a-4485-864b-72d3f18b09c4"
   },
   "outputs": [],
   "source": [
    "print(\"Unique values in 'fecha_comp_' column:\")\n",
    "display(devengado_combined_df['fecha_comp_'].unique())\n",
    "\n",
    "print(\"\\nValue counts of 'fecha_comp_' column:\")\n",
    "display(devengado_combined_df['fecha_comp_'].value_counts())"
   ]
  },
  {
   "cell_type": "code",
   "execution_count": null,
   "metadata": {
    "colab": {
     "base_uri": "https://localhost:8080/",
     "height": 603
    },
    "id": "674531e0",
    "outputId": "744d305e-5cdc-4b42-af53-1ccac112b31a"
   },
   "outputs": [],
   "source": [
    "missing_ipc_rows = merged_df[merged_df['ipc'].isna()]\n",
    "print(\"Rows with missing IPC values:\")\n",
    "display(missing_ipc_rows.head())\n",
    "\n",
    "print(f\"\\nNumber of rows with missing IPC values: {len(missing_ipc_rows)}\")\n",
    "\n",
    "# Check the date range of the merged dataframe where IPC is missing\n",
    "if not missing_ipc_rows.empty:\n",
    "    print(\"\\nDate range of rows with missing IPC values:\")\n",
    "    display(missing_ipc_rows['fecha_comp_datetime'].min())\n",
    "    display(missing_ipc_rows['fecha_comp_datetime'].max())\n",
    "\n",
    "# Check the date range of the IPC dataframes\n",
    "print(\"\\nDate range of ipc_gral:\")\n",
    "display(ipc_gral['Fecha'].min())\n",
    "display(ipc_gral['Fecha'].max())\n",
    "\n",
    "print(\"\\nDate range of ipc_may25:\")\n",
    "display(ipc_may25['Fecha'].min())\n",
    "display(ipc_may25['Fecha'].max())"
   ]
  },
  {
   "cell_type": "code",
   "execution_count": null,
   "metadata": {
    "colab": {
     "base_uri": "https://localhost:8080/",
     "height": 985
    },
    "id": "697b2d78",
    "outputId": "33ca0cd6-8149-4d13-8c3c-7e2acb1e85ca"
   },
   "outputs": [],
   "source": [
    "# Define the minimum date based on the IPC data\n",
    "min_ipc_date = pd.to_datetime('2024-01-01')\n",
    "\n",
    "# Filter the merged dataframe to include only rows within or after the minimum IPC date\n",
    "# This will now include data after the IPC date range as requested\n",
    "merged_df_filtered = merged_df[\n",
    "    merged_df['fecha_comp_datetime'] >= min_ipc_date\n",
    "].copy() # Use .copy() to avoid SettingWithCopyWarning\n",
    "\n",
    "print(\"First 5 rows of the filtered dataframe:\")\n",
    "display(merged_df_filtered.head())\n",
    "\n",
    "print(\"\\nInformation about the filtered dataframe:\")\n",
    "merged_df_filtered.info()"
   ]
  },
  {
   "cell_type": "code",
   "execution_count": null,
   "metadata": {
    "colab": {
     "base_uri": "https://localhost:8080/",
     "height": 1000
    },
    "id": "07c9ee50",
    "outputId": "5444ea3a-5d8b-4038-a810-099f4fff092d"
   },
   "outputs": [],
   "source": [
    "# Create a copy to avoid modifying the original merged dataframe\n",
    "processed_df = merged_df_filtered.copy()\n",
    "\n",
    "# Modify 'ofic_solicitante_' column: first remove ' SIN OC/OCD' and then standardize the names\n",
    "processed_df['ofic_solicitante_'] = processed_df['ofic_solicitante_'].str.replace(' SIN OC/OCD', '', regex=False)\n",
    "\n",
    "# Standardize 'DR. EMILIO VIDAL ABAL (OLIVA)' to 'H. VIDAL ABAL'\n",
    "processed_df['ofic_solicitante_'] = processed_df['ofic_solicitante_'].replace('DR. EMILIO VIDAL ABAL (OLIVA)', 'H. VIDAL ABAL')\n",
    "\n",
    "\n",
    "# Calculate real spending using the appropriate IPC values\n",
    "# Create a mapping for specific object codes to specific IPC columns\n",
    "ipc_mapping = {\n",
    "    2060100: 'Medicamentos', # Assuming this object code corresponds to Medicamentos\n",
    "    2060200: 'Descartables' # Assuming this object code corresponds to Descartables\n",
    "}\n",
    "\n",
    "# Apply the appropriate IPC based on 'n°_objeto_gasto_'\n",
    "# If IPC is missing, use the original 'importe_por_item_' value\n",
    "processed_df['relevant_ipc'] = processed_df.apply(\n",
    "    lambda row: row[ipc_mapping.get(row['n°_objeto_gasto_'], 'ipc')] if pd.notna(row['n°_objeto_gasto_']) and pd.notna(row['ipc']) else (1 if pd.isna(row['ipc']) else row['ipc']), axis=1\n",
    ")\n",
    "\n",
    "\n",
    "# Calculate adjusted spending\n",
    "# If relevant_ipc is 1 (due to missing original IPC), use the original importe_por_item_\n",
    "processed_df['importe_unitario_may25'] = processed_df.apply(\n",
    "    lambda row: row['importe_unitario_'] * row['relevant_ipc'] if pd.notna(row['relevant_ipc']) else row['importe_unitario_'], axis=1\n",
    ")\n",
    "processed_df['importe_por_item_may25'] = processed_df.apply(\n",
    "    lambda row: row['importe_por_item_'] * row['relevant_ipc'] if pd.notna(row['relevant_ipc']) else row['importe_por_item_'], axis=1\n",
    ")\n",
    "\n",
    "\n",
    "print(\"First 5 rows of the dataframe after removing ' SIN OC/OCD', standardizing office names, and calculating adjusted spending:\")\n",
    "display(processed_df.head())\n",
    "\n",
    "print(\"\\nInformation about the dataframe after removing ' SIN OC/OCD', standardizing office names, and calculating adjusted spending:\")\n",
    "processed_df.info()"
   ]
  },
  {
   "cell_type": "code",
   "execution_count": null,
   "metadata": {
    "id": "b918c954"
   },
   "outputs": [],
   "source": []
  },
  {
   "cell_type": "code",
   "execution_count": null,
   "metadata": {
    "colab": {
     "base_uri": "https://localhost:8080/",
     "height": 1000
    },
    "id": "e123b31f",
    "outputId": "225cf8f2-7fb7-4b3e-94b0-6352c23bf3fd"
   },
   "outputs": [],
   "source": [
    "processed_df_filtered_commitment = processed_df[processed_df['estado_compromiso_'].isna()].copy()\n",
    "\n",
    "print(\"First 5 rows of the dataframe filtered by null 'estado_compromiso_':\")\n",
    "display(processed_df_filtered_commitment.head())\n",
    "\n",
    "print(\"\\nInformation about the filtered dataframe:\")\n",
    "processed_df_filtered_commitment.info()"
   ]
  },
  {
   "cell_type": "code",
   "execution_count": null,
   "metadata": {
    "colab": {
     "base_uri": "https://localhost:8080/",
     "height": 1000
    },
    "id": "de49ed5f",
    "outputId": "9cb98f37-22fc-48b4-d697-56f267fbe381"
   },
   "outputs": [],
   "source": [
    "oficinas_a_mantener = [\n",
    "    'DR. EMILIO VIDAL ABAL (OLIVA)', 'RAWSON', 'H. ALTA GRACIA', 'H. LA CALERA',\n",
    "    'H. RÍO CUARTO', 'H. VILLA MARÍA', 'CÓRDOBA', 'H. MINA CLAVERO', 'H. LABOULAYE',\n",
    "    'H. NEUROPSIQUIÁTRICO', 'FLORENCIO DIAZ', 'H. DEÁN FUNES', 'MATERNO PROVINCIAL',\n",
    "    'SUROESTE EVA PERÓN', 'TRÁNSITO', 'H. SAN JOSÉ DE LA DORMIDA', 'H. DOMINGO FUNES',\n",
    "    'H. OLIVA', 'MISERICORDIA', 'PEDIÁTRICO', 'ELPIDIO TORRES', 'H. RÍO TERCERO',\n",
    "    'H. SAN FRANCISCO', 'ONCOLÓGICO', 'H. JESUS MARÍA', 'H. BELL VILLE',\n",
    "    'H. VILLA DEL ROSARIO', 'H. CALAMUCHITA', 'H. VILLA DOLORES', 'H. LA CARLOTA',\n",
    "    'NIÑOS', 'NEONATAL', 'H. HUINCA RENANCÓ', 'H. SAN FRANCISCO DEL CHAÑAR',\n",
    "    'H. CRUZ DEL EJE', 'H. CORRAL DE BUSTOS', 'H. SANTA ROSA DE RÍO PRIMERO',\n",
    "    'H. MARCOS JUAREZ', 'SAN ROQUE', 'H. COLONIA SANTA MARÍA', 'H. VIDAL ABAL',\n",
    "    'H. UNQUILLO', 'CASA DEL JOVEN', 'CRSL'\n",
    "]\n",
    "\n",
    "# Create a condition for offices in the list or ending with ' SIN OC/OCD' and in the list\n",
    "condition = processed_df['ofic_solicitante_'].apply(lambda x: x in oficinas_a_mantener or (isinstance(x, str) and x.replace(' SIN OC/OCD', '') in oficinas_a_mantener))\n",
    "\n",
    "processed_df_filtered_oficinas = processed_df[condition].copy()\n",
    "\n",
    "# Update 'ofic_solicitante_' for rows ending with ' SIN OC/OCD'\n",
    "processed_df_filtered_oficinas['ofic_solicitante_'] = processed_df_filtered_oficinas['ofic_solicitante_'].str.replace(' SIN OC/OCD', '', regex=False)\n",
    "\n",
    "print(\"First 5 rows of the dataframe filtered and updated 'ofic_solicitante_':\")\n",
    "display(processed_df_filtered_oficinas.head())\n",
    "\n",
    "print(\"\\nInformation about the filtered and updated dataframe:\")\n",
    "processed_df_filtered_oficinas.info()\n",
    "\n",
    "print(\"\\nUnique values in 'ofic_solicitante_' column after update:\")\n",
    "display(processed_df_filtered_oficinas['ofic_solicitante_'].unique())"
   ]
  },
  {
   "cell_type": "code",
   "execution_count": null,
   "metadata": {
    "colab": {
     "base_uri": "https://localhost:8080/",
     "height": 1000
    },
    "id": "96b6d8fc",
    "outputId": "e9c82dff-49c7-4673-efd4-ddedf068388b"
   },
   "outputs": [],
   "source": [
    "processed_df_filtered_oficinas_commitment_null = processed_df_filtered_oficinas[processed_df_filtered_oficinas['estado_compromiso_'].isna()].copy()\n",
    "\n",
    "print(\"First 5 rows of the dataframe filtered by null 'estado_compromiso_':\")\n",
    "display(processed_df_filtered_oficinas_commitment_null.head())\n",
    "\n",
    "print(\"\\nInformation about the filtered dataframe:\")\n",
    "processed_df_filtered_oficinas_commitment_null.info()"
   ]
  },
  {
   "cell_type": "code",
   "execution_count": null,
   "metadata": {
    "colab": {
     "base_uri": "https://localhost:8080/",
     "height": 277
    },
    "id": "abaa56b7",
    "outputId": "3b22ee94-55a6-4a42-bb6b-5e5c3c03727c"
   },
   "outputs": [],
   "source": [
    "print(\"Unique values in 'ofic_solicitante_' column:\")\n",
    "display(processed_df_filtered_oficinas_commitment_null['ofic_solicitante_'].unique())"
   ]
  },
  {
   "cell_type": "code",
   "execution_count": null,
   "metadata": {
    "colab": {
     "base_uri": "https://localhost:8080/",
     "height": 481
    },
    "id": "96b6d9fc",
    "outputId": "6536abc2-4d2b-4d79-e807-245313decbf9"
   },
   "outputs": [],
   "source": [
    "processed_df_filtered_oficinas_commitment_null['programa_'] = processed_df_filtered_oficinas_commitment_null['programa_'].str[:3]\n",
    "\n",
    "print(\"First 5 rows of the dataframe with modified 'programa_' column:\")\n",
    "display(processed_df_filtered_oficinas_commitment_null.head())\n",
    "\n",
    "print(\"\\nUnique values in 'programa_' column after modification:\")\n",
    "display(processed_df_filtered_oficinas_commitment_null['programa_'].unique())"
   ]
  },
  {
   "cell_type": "code",
   "execution_count": null,
   "metadata": {
    "colab": {
     "base_uri": "https://localhost:8080/",
     "height": 1000
    },
    "id": "822791b1",
    "outputId": "2e2110d6-37c4-4d99-d62f-ff0f6a82c873"
   },
   "outputs": [],
   "source": [
    "programas_a_mantener = ['457', '458', '461', '462', '464']\n",
    "\n",
    "# Add filtering based on 'n°_objeto_gasto_'\n",
    "object_codes_to_exclude_prefix = ['312', '313', '315', '32', '39']\n",
    "condition_object_code = ~processed_df_filtered_oficinas_commitment_null['n°_objeto_gasto_'].astype(str).str.startswith(tuple(object_codes_to_exclude_prefix), na=False)\n",
    "\n",
    "# Add filtering to exclude rows with 'SERVICIOS DE ESTERILIZACION' in 'descripcion_del_bien_'\n",
    "condition_esterilizacion = ~processed_df_filtered_oficinas_commitment_null['descripcion_del_bien_'].str.contains('SERVICIOS DE ESTERILIZACION', na=False)\n",
    "\n",
    "\n",
    "processed_df_filtered_programas = processed_df_filtered_oficinas_commitment_null[\n",
    "    processed_df_filtered_oficinas_commitment_null['programa_'].isin(programas_a_mantener) &\n",
    "    condition_object_code &\n",
    "    condition_esterilizacion # Add the new condition here\n",
    "].copy()\n",
    "\n",
    "print(\"First 5 rows of the dataframe filtered by specific 'programa_' and excluded object codes:\")\n",
    "display(processed_df_filtered_programas.head())\n",
    "\n",
    "print(\"\\nInformation about the filtered dataframe:\")\n",
    "processed_df_filtered_programas.info()\n",
    "\n",
    "print(\"\\nUnique values in 'programa_' column after filtering:\")\n",
    "display(processed_df_filtered_programas['programa_'].unique())"
   ]
  },
  {
   "cell_type": "code",
   "execution_count": null,
   "metadata": {
    "colab": {
     "base_uri": "https://localhost:8080/"
    },
    "id": "a6ddc22f",
    "outputId": "fbd87360-58c5-4390-d549-0f4bd2ad89d0"
   },
   "outputs": [],
   "source": [
    "num_unique_oficinas = processed_df_filtered_programas['ofic_solicitante_'].nunique()\n",
    "\n",
    "print(f\"Number of unique offices remaining after the last filter: {num_unique_oficinas}\")"
   ]
  },
  {
   "cell_type": "code",
   "execution_count": null,
   "metadata": {
    "colab": {
     "base_uri": "https://localhost:8080/",
     "height": 449
    },
    "id": "f271ea78",
    "outputId": "d25cd9a2-1b89-4f58-9aa1-1edb738bb263"
   },
   "outputs": [],
   "source": [
    "monthly_spending_by_office = processed_df_filtered_programas.groupby(['ofic_solicitante_', 'month_year'])[['importe_por_item_', 'importe_por_item_may25']].sum().reset_index()\n",
    "\n",
    "print(\"Monthly spending by office:\")\n",
    "display(monthly_spending_by_office.head())\n",
    "\n",
    "print(\"\\nInformation about the monthly spending dataframe:\")\n",
    "monthly_spending_by_office.info()"
   ]
  },
  {
   "cell_type": "code",
   "execution_count": null,
   "metadata": {
    "colab": {
     "base_uri": "https://localhost:8080/",
     "height": 34
    },
    "id": "4143aec5",
    "outputId": "1d2dd7f9-5dff-4e00-e3bc-b05ef5f4b5ae"
   },
   "outputs": [],
   "source": [
    "from ipywidgets import Dropdown\n",
    "import pandas as pd\n",
    "\n",
    "# Get the unique list of office names\n",
    "unique_offices = monthly_spending_by_office['ofic_solicitante_'].unique().tolist()\n",
    "\n",
    "# Create a dropdown widget instance\n",
    "office_dropdown = Dropdown(\n",
    "    options=unique_offices,\n",
    "    description='Select Office:',\n",
    "    disabled=False,\n",
    ")\n",
    "\n",
    "print(\"Dropdown widget created.\")"
   ]
  },
  {
   "cell_type": "code",
   "execution_count": null,
   "metadata": {
    "colab": {
     "base_uri": "https://localhost:8080/"
    },
    "id": "d58918ca",
    "outputId": "1f9cac80-53f2-44bd-de9b-120e9d50d79a"
   },
   "outputs": [],
   "source": [
    "import matplotlib.pyplot as plt\n",
    "import seaborn as sb\n",
    "import pandas as pd\n",
    "\n",
    "def plot_office_spending(office_name):\n",
    "    \"\"\"\n",
    "    Generates a time series plot of adjusted monthly spending for a given office.\n",
    "\n",
    "    Args:\n",
    "        office_name (str): The name of the office to plot.\n",
    "    \"\"\"\n",
    "    # Filter data for the selected office\n",
    "    office_data = monthly_spending_by_office[monthly_spending_by_office['ofic_solicitante_'] == office_name]\n",
    "\n",
    "    # Create a matplotlib figure and axes\n",
    "    plt.figure(figsize=(12, 6))\n",
    "    ax = plt.gca()\n",
    "\n",
    "    # Create the time series plot using seaborn\n",
    "    sb.lineplot(data=office_data, x='month_year', y='importe_por_item_may25', ax=ax)\n",
    "\n",
    "    # Set plot title and labels\n",
    "    ax.set_title(f'Gasto Mensual para {office_name} (Ajustado a Precios Mayo 2025)')\n",
    "    ax.set_xlabel('Mes')\n",
    "    ax.set_ylabel('Gasto Mensual (Millones de ARS)') # Updated y-axis label\n",
    "\n",
    "    # Format y-axis labels to show millions\n",
    "    ax.yaxis.set_major_formatter(plt.FuncFormatter(lambda x, _: f'{x/1000000:.2f}M'))\n",
    "\n",
    "    # Rotate x-axis labels for better readability\n",
    "    plt.xticks(rotation=45)\n",
    "\n",
    "    # Ensure layout is tight to prevent labels overlapping\n",
    "    plt.tight_layout()\n",
    "\n",
    "    # Display the plot\n",
    "    plt.show()\n",
    "\n",
    "print(\"Modified the plot_office_spending function to display y-axis in millions.\")"
   ]
  },
  {
   "cell_type": "code",
   "execution_count": null,
   "metadata": {
    "colab": {
     "base_uri": "https://localhost:8080/",
     "height": 34
    },
    "id": "5a0e1be9",
    "outputId": "86019028-fec2-4622-a3c6-3df35cf73f9b"
   },
   "outputs": [],
   "source": [
    "from ipywidgets import interactive\n",
    "\n",
    "# Link the dropdown to the plotting function using interactive\n",
    "interactive_plot = interactive(plot_office_spending, office_name=office_dropdown)\n",
    "\n",
    "print(\"Interactive plot linked to the dropdown.\")"
   ]
  },
  {
   "cell_type": "code",
   "execution_count": null,
   "metadata": {
    "colab": {
     "base_uri": "https://localhost:8080/",
     "height": 34
    },
    "id": "617c9cde",
    "outputId": "031b96c4-574b-4e38-ae07-71e7ee880122"
   },
   "outputs": [],
   "source": [
    "from ipywidgets import interactive\n",
    "\n",
    "# Link the dropdown to the plotting function using interactive\n",
    "interactive_plot = interactive(plot_office_spending, office_name=office_dropdown)\n",
    "\n",
    "print(\"Interactive plot linked to the dropdown.\")"
   ]
  },
  {
   "cell_type": "code",
   "execution_count": null,
   "metadata": {
    "colab": {
     "base_uri": "https://localhost:8080/",
     "height": 414
    },
    "id": "igzGTdtopy4U",
    "outputId": "d1f7475c-e3bc-4d84-920d-94c08e02ed33"
   },
   "outputs": [],
   "source": [
    "# Calculate the overall average monthly spending across all offices\n",
    "overall_monthly_average_spending = monthly_spending_by_office.groupby('month_year')['importe_por_item_may25'].mean().reset_index()\n",
    "\n",
    "print(\"Overall average monthly spending across all offices:\")\n",
    "display(overall_monthly_average_spending.head())\n",
    "\n",
    "print(\"\\nInformation about the overall average monthly spending dataframe:\")\n",
    "overall_monthly_average_spending.info()"
   ]
  },
  {
   "cell_type": "code",
   "execution_count": null,
   "metadata": {
    "colab": {
     "base_uri": "https://localhost:8080/"
    },
    "id": "HzJPv6UKp6px",
    "outputId": "27e15162-4d60-4925-b13b-0b2e69485e4f"
   },
   "outputs": [],
   "source": [
    "import matplotlib.pyplot as plt\n",
    "import seaborn as sb\n",
    "import pandas as pd\n",
    "\n",
    "def plot_office_spending(office_name):\n",
    "    \"\"\"\n",
    "    Generates a time series plot of adjusted monthly spending for a given office,\n",
    "    including a line for the overall average monthly spending across all offices.\n",
    "\n",
    "    Args:\n",
    "        office_name (str): The name of the office to plot.\n",
    "    \"\"\"\n",
    "    # Filter data for the selected office\n",
    "    office_data = monthly_spending_by_office[monthly_spending_by_office['ofic_solicitante_'] == office_name].copy()\n",
    "\n",
    "    # Create a matplotlib figure and axes\n",
    "    plt.figure(figsize=(12, 6))\n",
    "    ax = plt.gca()\n",
    "\n",
    "    # Create the time series plot using seaborn for the specific office\n",
    "    sb.lineplot(data=office_data, x='month_year', y='importe_por_item_may25', ax=ax, label=office_name) # Add label for the office line\n",
    "\n",
    "\n",
    "    # Add the line for the overall average monthly spending\n",
    "    sb.lineplot(\n",
    "        data=overall_monthly_average_spending,\n",
    "        x='month_year',\n",
    "        y='importe_por_item_may25',\n",
    "        ax=ax,\n",
    "        color='red', # Make the average line stand out\n",
    "        linestyle='--', # Use a dashed line for the average\n",
    "        label='Promedio General' # Label for the average line\n",
    "    )\n",
    "\n",
    "    # Set plot title and labels\n",
    "    ax.set_title(f'Gasto Mensual para {office_name} vs Promedio General (Ajustado a Precios Mayo 2025)') # Updated title\n",
    "    ax.set_xlabel('Mes')\n",
    "    ax.set_ylabel('Gasto Mensual (Millones de ARS)')\n",
    "\n",
    "    # Format y-axis labels to show millions with dollar sign\n",
    "    ax.yaxis.set_major_formatter(plt.FuncFormatter(lambda x, _: f'${x/1000000:.2f}M'))\n",
    "\n",
    "    # Rotate x-axis labels for better readability\n",
    "    plt.xticks(rotation=45)\n",
    "\n",
    "    # Add a legend\n",
    "    ax.legend(title='Serie de Gasto') # Add a legend to differentiate the lines\n",
    "\n",
    "    # Ensure layout is tight to prevent labels overlapping\n",
    "    plt.tight_layout()\n",
    "\n",
    "    # Display the plot\n",
    "    plt.show()\n",
    "\n",
    "print(\"Modified the plot_office_spending function to include the overall average monthly spending.\")"
   ]
  },
  {
   "cell_type": "code",
   "execution_count": null,
   "metadata": {
    "colab": {
     "base_uri": "https://localhost:8080/",
     "height": 414
    },
    "id": "qW5LQsxJHPmj",
    "outputId": "d84f7dfb-e65f-4b06-f9fc-33573496e837"
   },
   "outputs": [],
   "source": [
    "# Calculate the overall average monthly spending across all offices\n",
    "overall_monthly_average_spending = monthly_spending_by_office.groupby('month_year')['importe_por_item_may25'].mean().reset_index()\n",
    "\n",
    "print(\"Overall average monthly spending across all offices:\")\n",
    "display(overall_monthly_average_spending.head())\n",
    "\n",
    "print(\"\\nInformation about the overall average monthly spending dataframe:\")\n",
    "overall_monthly_average_spending.info()"
   ]
  },
  {
   "cell_type": "code",
   "execution_count": null,
   "metadata": {
    "colab": {
     "base_uri": "https://localhost:8080/",
     "height": 449
    },
    "id": "66fb3783",
    "outputId": "1c025c8c-4763-4c85-9109-0f7012ece332"
   },
   "outputs": [],
   "source": [
    "# Calculate the total adjusted spending by office and letra_fondo_\n",
    "spending_by_office_and_fondo = processed_df_filtered_programas.groupby(['ofic_solicitante_', 'letra_fondo_'])['importe_por_item_may25'].sum().reset_index()\n",
    "\n",
    "# Convert spending to millions of ARS\n",
    "spending_by_office_and_fondo['importe_por_item_may25_millions'] = spending_by_office_and_fondo['importe_por_item_may25'] / 1_000_000\n",
    "\n",
    "print(\"Total adjusted spending by office and 'letra_fondo_' (in millions of ARS):\")\n",
    "display(spending_by_office_and_fondo[['ofic_solicitante_', 'letra_fondo_', 'importe_por_item_may25_millions']].head().style.format({'importe_por_item_may25_millions': '${:.2f}M'}))\n",
    "\n",
    "print(\"\\nInformation about the spending by office and 'letra_fondo_' dataframe:\")\n",
    "spending_by_office_and_fondo.info()"
   ]
  },
  {
   "cell_type": "code",
   "execution_count": null,
   "metadata": {
    "colab": {
     "base_uri": "https://localhost:8080/",
     "height": 671
    },
    "id": "1df1ab04",
    "outputId": "35ecb8d4-96c4-4a0d-f8db-08379c182e7d"
   },
   "outputs": [],
   "source": [
    "spending_fondo_a = spending_by_office_and_fondo[spending_by_office_and_fondo['letra_fondo_'] == 'A'].copy()\n",
    "spending_fondo_r = spending_by_office_and_fondo[spending_by_office_and_fondo['letra_fondo_'] == 'R'].copy()\n",
    "spending_fondo_n = spending_by_office_and_fondo[spending_by_office_and_fondo['letra_fondo_'] == 'N'].copy()\n",
    "\n",
    "print(\"Spending for Fondo A:\")\n",
    "display(spending_fondo_a.head())\n",
    "\n",
    "print(\"\\nSpending for Fondo R:\")\n",
    "display(spending_fondo_r.head())\n",
    "\n",
    "print(\"\\nSpending for Fondo N:\")\n",
    "display(spending_fondo_n.head())"
   ]
  },
  {
   "cell_type": "markdown",
   "metadata": {
    "id": "03fc8064"
   },
   "source": [
    "**Reasoning**:\n",
    "Define the function to plot adjusted spending by fund type for a selected office.\n",
    "\n"
   ]
  },
  {
   "cell_type": "code",
   "execution_count": null,
   "metadata": {
    "colab": {
     "base_uri": "https://localhost:8080/"
    },
    "id": "6079eb3f",
    "outputId": "675eb496-31ee-4e09-e795-14c23e171a16"
   },
   "outputs": [],
   "source": [
    "def plot_office_fondo_spending(office_name):\n",
    "    \"\"\"\n",
    "    Generates a bar chart of adjusted spending by fund type for a given office.\n",
    "\n",
    "    Args:\n",
    "        office_name (str): The name of the office to plot.\n",
    "    \"\"\"\n",
    "    # Filter data for the selected office for each fund type\n",
    "    office_spending_a = spending_fondo_a[spending_fondo_a['ofic_solicitante_'] == office_name]['importe_por_item_may25_millions'].sum()\n",
    "    office_spending_r = spending_fondo_r[spending_fondo_r['ofic_solicitante_'] == office_name]['importe_por_item_may25_millions'].sum()\n",
    "    office_spending_n = spending_fondo_n[spending_fondo_n['ofic_solicitante_'] == office_name]['importe_por_item_may25_millions'].sum()\n",
    "\n",
    "    # Create a list of spending values and fund type labels\n",
    "    spending_values = [office_spending_a, office_spending_r, office_spending_n]\n",
    "    fund_labels = ['Fondo A', 'Fondo R', 'Fondo N']\n",
    "\n",
    "    # Create a bar chart\n",
    "    plt.figure(figsize=(8, 6))\n",
    "    plt.bar(fund_labels, spending_values, color=['blue', 'green', 'orange'])\n",
    "\n",
    "    # Set plot title and labels\n",
    "    plt.title(f'Gasto Ajustado por Fondo para {office_name} (Millones de ARS)')\n",
    "    plt.xlabel('Tipo de Fondo')\n",
    "    plt.ylabel('Gasto Ajustado (Millones de ARS)')\n",
    "\n",
    "    # Format y-axis labels to show millions with dollar sign\n",
    "    plt.gca().yaxis.set_major_formatter(plt.FuncFormatter(lambda x, _: f'${x:.2f}M'))\n",
    "\n",
    "    # Ensure layout is tight\n",
    "    plt.tight_layout()\n",
    "\n",
    "    # Display the plot\n",
    "    plt.show()\n",
    "\n",
    "print(\"Defined the plot_office_fondo_spending function.\")"
   ]
  },
  {
   "cell_type": "code",
   "execution_count": null,
   "metadata": {
    "colab": {
     "base_uri": "https://localhost:8080/",
     "height": 34
    },
    "id": "f7d0769d",
    "outputId": "94fe0c05-0a2f-4393-a5ca-00f618b4788f"
   },
   "outputs": [],
   "source": [
    "# Get the unique list of office names\n",
    "unique_offices = processed_df_filtered_programas['ofic_solicitante_'].unique().tolist()\n",
    "\n",
    "# Create a dropdown widget instance\n",
    "office_dropdown = Dropdown(\n",
    "    options=unique_offices,\n",
    "    description='Select Office:',\n",
    "    disabled=False,\n",
    ")\n",
    "\n",
    "print(\"Dropdown widget created.\")"
   ]
  },
  {
   "cell_type": "markdown",
   "metadata": {
    "id": "xV9ikYBVs2gK"
   },
   "source": [
    "# Gasto por Fondo CCH para todo el período"
   ]
  },
  {
   "cell_type": "code",
   "execution_count": null,
   "metadata": {
    "colab": {
     "base_uri": "https://localhost:8080/",
     "height": 639,
     "referenced_widgets": [
      "5ca441817546480abab349e750be7136",
      "e8e319c44d4c4ff98728a1bad610794d",
      "85de9c389f124927938ca006bd4ceade",
      "565ce239fc01426599b2e6a3754566e9",
      "c783ec8313bd4744bb3aa30317c3bc82",
      "c98b0942d2db40aaa20d5caf516b4c83",
      "dc912b94696a463daee488839e693648"
     ]
    },
    "id": "7edf6743",
    "outputId": "7682647b-200c-4b9b-d6b0-71e6ddc487e7"
   },
   "outputs": [],
   "source": [
    "from ipywidgets import interactive\n",
    "from IPython.display import display\n",
    "\n",
    "# Link the dropdown to the plotting function using interactive\n",
    "interactive_dashboard = interactive(plot_office_fondo_spending, office_name=office_dropdown)\n",
    "\n",
    "# Display the interactive dashboard\n",
    "display(interactive_dashboard)"
   ]
  },
  {
   "cell_type": "code",
   "execution_count": null,
   "metadata": {
    "colab": {
     "base_uri": "https://localhost:8080/",
     "height": 432
    },
    "id": "53180097",
    "outputId": "432db642-c314-4ba4-a1c0-2a76c44435d6"
   },
   "outputs": [],
   "source": [
    "monthly_spending_by_office = processed_df_filtered_programas.groupby(['ofic_solicitante_', 'month_year'])['importe_por_item_may25'].sum().reset_index()\n",
    "\n",
    "print(\"Monthly spending by office:\")\n",
    "display(monthly_spending_by_office.head())\n",
    "\n",
    "print(\"\\nInformation about the monthly spending dataframe:\")\n",
    "monthly_spending_by_office.info()"
   ]
  },
  {
   "cell_type": "code",
   "execution_count": null,
   "metadata": {
    "colab": {
     "base_uri": "https://localhost:8080/"
    },
    "id": "4146d3d3",
    "outputId": "3952a910-f4a7-4c50-edae-fb4dfa024d59"
   },
   "outputs": [],
   "source": [
    "def plot_monthly_spending(office_name):\n",
    "    \"\"\"\n",
    "    Generates a time series plot of adjusted monthly spending for a given office.\n",
    "\n",
    "    Args:\n",
    "        office_name (str): The name of the office to plot.\n",
    "    \"\"\"\n",
    "    # Filter data for the selected office\n",
    "    office_data = monthly_spending_by_office[monthly_spending_by_office['ofic_solicitante_'] == office_name]\n",
    "\n",
    "    # Create a matplotlib figure and axes\n",
    "    plt.figure(figsize=(12, 6))\n",
    "    ax = plt.gca()\n",
    "\n",
    "    # Create the time series plot using seaborn\n",
    "    sb.lineplot(data=office_data, x='month_year', y='importe_por_item_may25', ax=ax)\n",
    "\n",
    "    # Set plot title and labels\n",
    "    ax.set_title(f'Gasto ajustado por ara {office_name} (Precios Mayo 2025)')\n",
    "    ax.set_xlabel('Mes')\n",
    "    ax.set_ylabel('Gasto ajustado (Precios Mayo 2025)')\n",
    "     # Format y-axis labels to show millions with dollar sign\n",
    "    ax.yaxis.set_major_formatter(plt.FuncFormatter(lambda x, _: f'${x/1000000:.2f}M'))\n",
    "\n",
    "\n",
    "\n",
    "    # Rotate x-axis labels for better readability\n",
    "    plt.xticks(rotation=45)\n",
    "\n",
    "    # Ensure layout is tight to prevent labels overlapping\n",
    "    plt.tight_layout()\n",
    "\n",
    "    # Display the plot\n",
    "    plt.show()\n",
    "\n",
    "print(\"Defined the plot_monthly_spending function.\")"
   ]
  },
  {
   "cell_type": "code",
   "execution_count": null,
   "metadata": {
    "colab": {
     "base_uri": "https://localhost:8080/",
     "height": 34
    },
    "id": "d3c5c347",
    "outputId": "b60ba356-db64-4fea-865b-7d2e41a91b04"
   },
   "outputs": [],
   "source": [
    "from ipywidgets import Dropdown\n",
    "\n",
    "# Get the unique list of office names\n",
    "unique_offices = processed_df_filtered_programas['ofic_solicitante_'].unique().tolist()\n",
    "\n",
    "# Create a dropdown widget instance\n",
    "office_dropdown = Dropdown(\n",
    "    options=unique_offices,\n",
    "    description='Select Office:',\n",
    "    disabled=False,\n",
    ")\n",
    "\n",
    "print(\"Dropdown widget created.\")"
   ]
  },
  {
   "cell_type": "markdown",
   "metadata": {
    "id": "dZNIcWqNsmTY"
   },
   "source": []
  },
  {
   "cell_type": "code",
   "execution_count": null,
   "metadata": {
    "colab": {
     "base_uri": "https://localhost:8080/",
     "height": 639,
     "referenced_widgets": [
      "9dd5916998f74e3883a9fbb02ee78f47",
      "f7d363fdd6c3425898e0121d0ad88cd9",
      "d9f569961e3645709744ab44cdd6bf77",
      "5b2c7617653640eb8e9a0380d804b9a8",
      "6dba9bf7152f43d3bf5a25091eeaa0d2",
      "aaa40c49f3d94f158770bf3b11a90363",
      "fbed99962db8459391a10f838da8f744"
     ]
    },
    "id": "22b3e1e9",
    "outputId": "b23595c1-dc7b-4c16-c707-cb4e5ddd6299"
   },
   "outputs": [],
   "source": [
    "from ipywidgets import interactive\n",
    "from IPython.display import display\n",
    "\n",
    "# Assuming plot_monthly_spending is already defined\n",
    "interactive_plot = interactive(plot_monthly_spending, office_name=office_dropdown)\n",
    "\n",
    "# Display the interactive dashboard\n",
    "display(interactive_plot)"
   ]
  },
  {
   "cell_type": "code",
   "execution_count": null,
   "metadata": {
    "colab": {
     "base_uri": "https://localhost:8080/",
     "height": 1000
    },
    "id": "722eee3c",
    "outputId": "79046249-4e28-49a3-fe9a-7a95b42ca962"
   },
   "outputs": [],
   "source": [
    "fondo_a_df = processed_df_filtered_programas[processed_df_filtered_programas['letra_fondo_'] == 'A'].copy()\n",
    "fondo_r_df = processed_df_filtered_programas[processed_df_filtered_programas['letra_fondo_'] == 'R'].copy()\n",
    "fondo_n_df = processed_df_filtered_programas[processed_df_filtered_programas['letra_fondo_'] == 'N'].copy()\n",
    "\n",
    "print(\"First 5 rows of fondo_a_df:\")\n",
    "display(fondo_a_df.head())\n",
    "\n",
    "print(\"\\nFirst 5 rows of fondo_r_df:\")\n",
    "display(fondo_r_df.head())\n",
    "\n",
    "print(\"\\nFirst 5 rows of fondo_n_df:\")\n",
    "display(fondo_n_df.head())"
   ]
  },
  {
   "cell_type": "code",
   "execution_count": null,
   "metadata": {
    "colab": {
     "base_uri": "https://localhost:8080/",
     "height": 1000
    },
    "id": "74d49ba0",
    "outputId": "a524f57c-427d-4e02-d6d6-13ec413a3115"
   },
   "outputs": [],
   "source": [
    "monthly_spending_a = fondo_a_df.groupby(['ofic_solicitante_', 'month_year', 'letra_fondo_'])['importe_por_item_may25'].sum().reset_index()\n",
    "monthly_spending_r = fondo_r_df.groupby(['ofic_solicitante_', 'month_year', 'letra_fondo_'])['importe_por_item_may25'].sum().reset_index()\n",
    "monthly_spending_n = fondo_n_df.groupby(['ofic_solicitante_', 'month_year', 'letra_fondo_'])['importe_por_item_may25'].sum().reset_index()\n",
    "\n",
    "print(\"Monthly spending for Fondo A:\")\n",
    "display(monthly_spending_a.head())\n",
    "print(\"\\nInformation about monthly_spending_a:\")\n",
    "monthly_spending_a.info()\n",
    "\n",
    "print(\"\\nMonthly spending for Fondo R:\")\n",
    "display(monthly_spending_r.head())\n",
    "print(\"\\nInformation about monthly_spending_r:\")\n",
    "monthly_spending_r.info()\n",
    "\n",
    "print(\"\\nMonthly spending for Fondo N:\")\n",
    "display(monthly_spending_n.head())\n",
    "print(\"\\nInformation about monthly_spending_n:\")\n",
    "monthly_spending_n.info()"
   ]
  },
  {
   "cell_type": "code",
   "execution_count": null,
   "metadata": {
    "colab": {
     "base_uri": "https://localhost:8080/"
    },
    "id": "2fa3d362",
    "outputId": "c8efe467-e79d-46e5-b0ce-4932d52fd5e5"
   },
   "outputs": [],
   "source": [
    "def plot_monthly_spending_by_fondo(office_name, fund_df):\n",
    "    \"\"\"\n",
    "    Generates a time series plot of adjusted monthly spending for a given office\n",
    "    and fund type.\n",
    "\n",
    "    Args:\n",
    "        office_name (str): The name of the office to plot.\n",
    "        fund_df (pd.DataFrame): The dataframe containing spending data for a specific fund type.\n",
    "    \"\"\"\n",
    "    # Filter data for the selected office\n",
    "    office_data = fund_df[fund_df['ofic_solicitante_'] == office_name].copy()\n",
    "\n",
    "    # Create a matplotlib figure and axes\n",
    "    plt.figure(figsize=(12, 6))\n",
    "    ax = plt.gca()\n",
    "\n",
    "    # Create the time series plot using seaborn\n",
    "    sb.lineplot(data=office_data, x='month_year', y='importe_por_item_may25', ax=ax)\n",
    "\n",
    "    # Determine the fund type from the dataframe name (assuming variable names match the fund type)\n",
    "    fund_type = \"Unknown Fund\"\n",
    "    if \"monthly_spending_a\" in globals() and fund_df is monthly_spending_a:\n",
    "        fund_type = \"Fondo A\"\n",
    "    elif \"monthly_spending_r\" in globals() and fund_df is monthly_spending_r:\n",
    "        fund_type = \"Fondo R\"\n",
    "    elif \"monthly_spending_n\" in globals() and fund_df is monthly_spending_n:\n",
    "        fund_type = \"Fondo N\"\n",
    "\n",
    "\n",
    "    # Set plot title and labels\n",
    "    ax.set_title(f'Adjusted Monthly Spending for {office_name} - {fund_type} (May 2025 Prices)')\n",
    "    ax.set_xlabel('Month')\n",
    "    ax.set_ylabel('Adjusted Spending (May 2025 Prices)')\n",
    "\n",
    "    # Rotate x-axis labels for better readability\n",
    "    plt.xticks(rotation=45)\n",
    "\n",
    "    # Ensure layout is tight to prevent labels overlapping\n",
    "    plt.tight_layout()\n",
    "\n",
    "    # Display the plot\n",
    "    plt.show()\n",
    "\n",
    "print(\"Defined the plot_monthly_spending_by_fondo function.\")"
   ]
  },
  {
   "cell_type": "code",
   "execution_count": null,
   "metadata": {
    "colab": {
     "base_uri": "https://localhost:8080/",
     "height": 34
    },
    "id": "21cedea2",
    "outputId": "b4fff76e-6ddc-4d44-c113-a58abf34b315"
   },
   "outputs": [],
   "source": [
    "from ipywidgets import Dropdown, VBox\n",
    "\n",
    "# Get the unique list of office names from any of the monthly spending dataframes\n",
    "unique_offices = monthly_spending_a['ofic_solicitante_'].unique().tolist()\n",
    "\n",
    "# Create a dropdown widget instance for offices\n",
    "office_dropdown = Dropdown(\n",
    "    options=unique_offices,\n",
    "    description='Select Office:',\n",
    "    disabled=False,\n",
    ")\n",
    "\n",
    "# Create a dropdown widget instance for fund types\n",
    "fund_dropdown = Dropdown(\n",
    "    options=['Fondo A', 'Fondo R', 'Fondo N'],\n",
    "    description='Select Fund Type:',\n",
    "    disabled=False,\n",
    ")\n",
    "\n",
    "print(\"Dropdown widgets for office and fund type created.\")"
   ]
  },
  {
   "cell_type": "code",
   "execution_count": null,
   "metadata": {
    "colab": {
     "base_uri": "https://localhost:8080/",
     "height": 671
    },
    "id": "4f186b6d",
    "outputId": "53674899-9002-4c76-c6de-d7e787a64330"
   },
   "outputs": [],
   "source": [
    "overall_monthly_average_a = monthly_spending_a.groupby('month_year')['importe_por_item_may25'].mean().reset_index()\n",
    "overall_monthly_average_r = monthly_spending_r.groupby('month_year')['importe_por_item_may25'].mean().reset_index()\n",
    "overall_monthly_average_n = monthly_spending_n.groupby('month_year')['importe_por_item_may25'].mean().reset_index()\n",
    "\n",
    "print(\"Overall average monthly spending for Fondo A:\")\n",
    "display(overall_monthly_average_a.head())\n",
    "\n",
    "print(\"\\nOverall average monthly spending for Fondo R:\")\n",
    "display(overall_monthly_average_r.head())\n",
    "\n",
    "print(\"\\nOverall average monthly spending for Fondo N:\")\n",
    "display(overall_monthly_average_n.head())"
   ]
  },
  {
   "cell_type": "code",
   "execution_count": null,
   "metadata": {
    "colab": {
     "base_uri": "https://localhost:8080/"
    },
    "id": "b2e6adb0",
    "outputId": "dc372b51-f0bd-4b34-fcef-0280846ae4c7"
   },
   "outputs": [],
   "source": [
    "import matplotlib.pyplot as plt\n",
    "import seaborn as sb\n",
    "import pandas as pd\n",
    "\n",
    "def plot_monthly_spending_by_fondo(office_name, fund_type):\n",
    "    \"\"\"\n",
    "    Generates a time series plot of adjusted monthly spending for a given office\n",
    "    and fund type, including a line for the overall average monthly spending\n",
    "    across all offices for that fund type.\n",
    "\n",
    "    Args:\n",
    "        office_name (str): The name of the office to plot.\n",
    "        fund_type (str): The fund type ('Fondo A', 'Fondo R', 'Fondo N').\n",
    "    \"\"\"\n",
    "    # Select the appropriate monthly spending dataframe based on fund type\n",
    "    if fund_type == 'Fondo A':\n",
    "        monthly_spending_data = monthly_spending_a\n",
    "        overall_average_data = overall_monthly_average_a\n",
    "    elif fund_type == 'Fondo R':\n",
    "        monthly_spending_data = monthly_spending_r\n",
    "        overall_average_data = overall_monthly_average_r\n",
    "    elif fund_type == 'Fondo N':\n",
    "        monthly_spending_data = monthly_spending_n\n",
    "        overall_average_data = overall_monthly_average_n\n",
    "    else:\n",
    "        print(\"Invalid fund type selected.\")\n",
    "        return\n",
    "\n",
    "    # Filter data for the selected office\n",
    "    office_data = monthly_spending_data[monthly_spending_data['ofic_solicitante_'] == office_name].copy()\n",
    "\n",
    "    # Check if office_data is empty\n",
    "    if office_data.empty:\n",
    "        print(f\"No data available for {office_name} with {fund_type}.\")\n",
    "        return\n",
    "\n",
    "    # Create a matplotlib figure and axes\n",
    "    plt.figure(figsize=(12, 6))\n",
    "    ax = plt.gca()\n",
    "\n",
    "    # Create the time series plot using seaborn for the specific office\n",
    "    sb.lineplot(data=office_data, x='month_year', y='importe_por_item_may25', ax=ax, label=office_name)\n",
    "\n",
    "    # Add the line for the overall average monthly spending for the selected fund type\n",
    "    sb.lineplot(\n",
    "        data=overall_average_data,\n",
    "        x='month_year',\n",
    "        y='importe_por_item_may25',\n",
    "        ax=ax,\n",
    "        color='red', # Make the average line stand out\n",
    "        linestyle='--', # Use a dashed line for the average\n",
    "        label=f'Promedio General ({fund_type})' # Label for the average line\n",
    "    )\n",
    "\n",
    "    # Set plot title and labels\n",
    "    ax.set_title(f'Gasto Mensual para {office_name} vs Promedio General ({fund_type}) (Ajustado a Precios Mayo 2025)')\n",
    "    ax.set_xlabel('Mes')\n",
    "    ax.set_ylabel('Gasto Mensual (Millones de ARS)')\n",
    "\n",
    "    # Format y-axis labels to show millions with dollar sign\n",
    "    ax.yaxis.set_major_formatter(plt.FuncFormatter(lambda x, _: f'${x/1000000:.2f}M'))\n",
    "\n",
    "\n",
    "    # Rotate x-axis labels for better readability\n",
    "    plt.xticks(rotation=45)\n",
    "\n",
    "    # Add a legend\n",
    "    ax.legend(title='Serie de Gasto') # Add a legend to differentiate the lines\n",
    "\n",
    "    # Ensure layout is tight to prevent labels overlapping\n",
    "    plt.tight_layout()\n",
    "\n",
    "    # Display the plot\n",
    "    plt.show()\n",
    "\n",
    "print(\"Modified the plot_monthly_spending_by_fondo function to include a check for empty data.\")"
   ]
  },
  {
   "cell_type": "markdown",
   "metadata": {
    "id": "f8YyLDOesMQc"
   },
   "source": [
    "# Evolución del gasto por Fondo CCH vs promedio"
   ]
  },
  {
   "cell_type": "code",
   "execution_count": null,
   "metadata": {
    "colab": {
     "base_uri": "https://localhost:8080/",
     "height": 688,
     "referenced_widgets": [
      "b5154d1de5b645f6b99c9a820a1555ca",
      "e2326ca4924d4dcbbba3082d9eeeb554",
      "9eb799c582db41b4a6c5a59eb5d7dabf",
      "249c7853b0254a34a6e7a39bf2603d05",
      "518b9640288d48e7901e3fb7263e0164",
      "af4c217b95ea47ac8f6a11ca505fdfd2",
      "a095fa6300dd4f3897307f9f1d7ab91e",
      "6100a35e52cb40f58063920722395eea",
      "02768faeb65f41ac8de211c9155b8b79",
      "615a119de9a843b7aaa50c37d99412a0"
     ]
    },
    "id": "77c99de8",
    "outputId": "e5318026-3bb8-4ce4-b8c8-89bd7579a214"
   },
   "outputs": [],
   "source": [
    "from ipywidgets import interactive\n",
    "from IPython.display import display\n",
    "\n",
    "# Assuming office_dropdown and fund_dropdown are already defined and available\n",
    "# Assuming plot_monthly_spending_by_fondo is already defined\n",
    "\n",
    "# Link the dropdowns to the plotting function using interactive\n",
    "interactive_dashboard_time_series = interactive(plot_monthly_spending_by_fondo, office_name=office_dropdown, fund_type=fund_dropdown)\n",
    "\n",
    "# Display the interactive dashboard\n",
    "display(interactive_dashboard_time_series)\n",
    "\n",
    "print(\"Interactive time series dashboard by fund type linked and displayed.\")"
   ]
  },
  {
   "cell_type": "code",
   "execution_count": null,
   "metadata": {
    "colab": {
     "base_uri": "https://localhost:8080/",
     "height": 432
    },
    "id": "800df90a",
    "outputId": "126c1255-c850-4fed-e118-6b2f90af358d"
   },
   "outputs": [],
   "source": [
    "total_spending_by_office_and_fondo = processed_df_filtered_programas.groupby(['ofic_solicitante_', 'letra_fondo_'])['importe_por_item_may25'].sum().reset_index()\n",
    "\n",
    "print(\"Total adjusted spending by office and fund type:\")\n",
    "display(total_spending_by_office_and_fondo.head())\n",
    "\n",
    "print(\"\\nInformation about the total spending by office and fund type dataframe:\")\n",
    "total_spending_by_office_and_fondo.info()"
   ]
  },
  {
   "cell_type": "code",
   "execution_count": null,
   "metadata": {
    "colab": {
     "base_uri": "https://localhost:8080/",
     "height": 414
    },
    "id": "ffcc24d6",
    "outputId": "86f38dfb-a596-4b86-d269-e490c0530905"
   },
   "outputs": [],
   "source": [
    "total_spending_by_office = processed_df_filtered_programas.groupby('ofic_solicitante_')['importe_por_item_may25'].sum().reset_index()\n",
    "\n",
    "print(\"Total adjusted spending by office:\")\n",
    "display(total_spending_by_office.head())\n",
    "\n",
    "print(\"\\nInformation about the total spending by office dataframe:\")\n",
    "total_spending_by_office.info()"
   ]
  },
  {
   "cell_type": "code",
   "execution_count": null,
   "metadata": {
    "colab": {
     "base_uri": "https://localhost:8080/",
     "height": 467
    },
    "id": "7911f759",
    "outputId": "97b7164b-9bf6-42fa-803f-7e9255047b29"
   },
   "outputs": [],
   "source": [
    "spending_by_office_and_fondo_percentage = pd.merge(\n",
    "    total_spending_by_office_and_fondo,\n",
    "    total_spending_by_office,\n",
    "    on='ofic_solicitante_',\n",
    "    suffixes=('_fondo', '_total')\n",
    ")\n",
    "\n",
    "spending_by_office_and_fondo_percentage['percentage'] = (\n",
    "    spending_by_office_and_fondo_percentage['importe_por_item_may25_fondo'] /\n",
    "    spending_by_office_and_fondo_percentage['importe_por_item_may25_total']\n",
    ") * 100\n",
    "\n",
    "print(\"Percentage of adjusted spending by office and fund type:\")\n",
    "display(spending_by_office_and_fondo_percentage.head())\n",
    "\n",
    "print(\"\\nInformation about the percentage spending dataframe:\")\n",
    "spending_by_office_and_fondo_percentage.info()"
   ]
  },
  {
   "cell_type": "code",
   "execution_count": null,
   "metadata": {
    "colab": {
     "base_uri": "https://localhost:8080/"
    },
    "id": "0fcbf5aa",
    "outputId": "d5ac85ad-8c29-4eac-968b-7f15328d5d04"
   },
   "outputs": [],
   "source": [
    "import matplotlib.pyplot as plt\n",
    "import seaborn as sb\n",
    "import pandas as pd\n",
    "\n",
    "def plot_office_fondo_percentage(office_name):\n",
    "    \"\"\"\n",
    "    Generates a bar chart showing the percentage of adjusted spending by fund type\n",
    "    for a given office, with a point for the overall average percentage for each fund type.\n",
    "\n",
    "    Args:\n",
    "        office_name (str): The name of the office to plot.\n",
    "    \"\"\"\n",
    "    # Filter data for the selected office\n",
    "    office_data = spending_by_office_and_fondo_percentage[\n",
    "        spending_by_office_and_fondo_percentage['ofic_solicitante_'] == office_name\n",
    "    ].copy()\n",
    "\n",
    "    # Create a matplotlib figure and axes\n",
    "    plt.figure(figsize=(10, 6))\n",
    "    ax = plt.gca()\n",
    "\n",
    "    # Create the bar chart using seaborn\n",
    "    sb.barplot(\n",
    "        data=office_data,\n",
    "        x='letra_fondo_',\n",
    "        y='percentage',\n",
    "        ax=ax,\n",
    "        palette='viridis' # Use a different color palette\n",
    "    )\n",
    "\n",
    "    # Add a point for the overall average percentage for each fund type\n",
    "    # Assuming overall_fund_type_percentages is available from a previous step\n",
    "    if 'overall_fund_type_percentages' in globals():\n",
    "        # Calculate the mean percentage for each fund type across all offices\n",
    "        overall_mean_percentages = spending_by_office_and_fondo_percentage.groupby('letra_fondo_')['percentage'].mean().reset_index()\n",
    "\n",
    "        # Ensure the fund types in overall_mean_percentages match the x-axis order\n",
    "        overall_mean_percentages_sorted = overall_mean_percentages.set_index('letra_fondo_').loc[office_data['letra_fondo_']].reset_index()\n",
    "\n",
    "\n",
    "        sb.scatterplot(\n",
    "            data=overall_mean_percentages_sorted,\n",
    "            x='letra_fondo_',\n",
    "            y='percentage',\n",
    "            ax=ax,\n",
    "            color='red', # Make the average point stand out\n",
    "            marker='X',  # Use a distinct marker\n",
    "            s=100, # Increase marker size\n",
    "            label='Promedio General'\n",
    "        )\n",
    "    else:\n",
    "        print(\"Error: 'spending_by_office_and_fondo_percentage' DataFrame not found.\")\n",
    "\n",
    "\n",
    "    # Set plot title and labels\n",
    "    ax.set_title(f'Composición del Gasto por Fondo para {office_name} vs Promedio General')\n",
    "    ax.set_xlabel('Fondo')\n",
    "    ax.set_ylabel('Porcentaje del Gasto Total del Hospital')\n",
    "\n",
    "    # Format y-axis labels to show percentages\n",
    "    ax.yaxis.set_major_formatter(plt.FuncFormatter(lambda x, _: f'{x:.1f}%'))\n",
    "\n",
    "    # Add a legend\n",
    "    ax.legend(title='Serie de Gasto')\n",
    "\n",
    "\n",
    "    # Ensure layout is tight\n",
    "    plt.tight_layout()\n",
    "\n",
    "    # Display the plot\n",
    "    plt.show()\n",
    "\n",
    "print(\"Modified the plot_office_fondo_percentage function to include a point for the overall average percentage.\")"
   ]
  },
  {
   "cell_type": "code",
   "execution_count": null,
   "metadata": {
    "colab": {
     "base_uri": "https://localhost:8080/",
     "height": 34
    },
    "id": "ab64aa22",
    "outputId": "004986b2-df37-415a-8e9b-35c425e53e3d"
   },
   "outputs": [],
   "source": [
    "from ipywidgets import Dropdown\n",
    "\n",
    "# Get the unique list of office names\n",
    "unique_offices = spending_by_office_and_fondo_percentage['ofic_solicitante_'].unique().tolist()\n",
    "\n",
    "# Create a dropdown widget instance\n",
    "office_dropdown = Dropdown(\n",
    "    options=unique_offices,\n",
    "    description='Select Office:',\n",
    "    disabled=False,\n",
    ")\n",
    "\n",
    "print(\"Dropdown widget created for selecting offices.\")"
   ]
  },
  {
   "cell_type": "markdown",
   "metadata": {
    "id": "-Y3D6udcr9o9"
   },
   "source": [
    "# Porcentaje del gasto total por Fondo CCH"
   ]
  },
  {
   "cell_type": "code",
   "execution_count": null,
   "metadata": {
    "colab": {
     "base_uri": "https://localhost:8080/",
     "height": 743,
     "referenced_widgets": [
      "278b3c32538a4d1ea9b5ca41d5cde34c",
      "22d409131268462da6aeb314d9870618",
      "605b5e221f92476ca5b05e45e6b4e96c",
      "c3625cafc17b4c008ea48cc9d5ce01f0",
      "d4b51f7b5d8f48d8bc2d03c26d5b98c1",
      "980860cec9d74d6985f06e9f19a273f7",
      "8f09f060d6214443ac7ee920190ed938"
     ]
    },
    "id": "d4c0b9cd",
    "outputId": "93a7560b-397b-4cc3-b090-458bc30ad5be"
   },
   "outputs": [],
   "source": [
    "from ipywidgets import interactive\n",
    "from IPython.display import display\n",
    "\n",
    "# Assuming office_dropdown and plot_office_fondo_percentage are already defined and available\n",
    "\n",
    "# Link the dropdown to the plotting function using interactive\n",
    "interactive_dashboard_percentage = interactive(plot_office_fondo_percentage, office_name=office_dropdown)\n",
    "\n",
    "# Display the interactive dashboard\n",
    "display(interactive_dashboard_percentage)\n",
    "\n",
    "print(\"Interactive dashboard showing percentage of spending by fund type linked and displayed.\")"
   ]
  },
  {
   "cell_type": "code",
   "execution_count": null,
   "metadata": {
    "colab": {
     "base_uri": "https://localhost:8080/",
     "height": 432
    },
    "id": "ac4bce91",
    "outputId": "6dd51b63-109e-40bd-dc16-d7b0b8f22ba5"
   },
   "outputs": [],
   "source": [
    "monthly_spending_by_fund_type = processed_df_filtered_programas.groupby(['month_year', 'letra_fondo_'])['importe_por_item_may25'].sum().reset_index()\n",
    "\n",
    "print(\"Monthly spending by fund type:\")\n",
    "display(monthly_spending_by_fund_type.head())\n",
    "\n",
    "print(\"\\nInformation about the monthly spending by fund type dataframe:\")\n",
    "monthly_spending_by_fund_type.info()"
   ]
  },
  {
   "cell_type": "code",
   "execution_count": null,
   "metadata": {
    "colab": {
     "base_uri": "https://localhost:8080/",
     "height": 414
    },
    "id": "33e74aa7",
    "outputId": "655be4f5-fec4-4864-a385-b9bbf4af3e44"
   },
   "outputs": [],
   "source": [
    "# Group the filtered data by month and sum the adjusted spending\n",
    "total_monthly_spending = processed_df_filtered_programas.groupby('month_year')['importe_por_item_may25'].sum().reset_index()\n",
    "\n",
    "print(\"Total monthly spending across all funds:\")\n",
    "display(total_monthly_spending.head())\n",
    "\n",
    "print(\"\\nInformation about the total monthly spending dataframe:\")\n",
    "total_monthly_spending.info()"
   ]
  },
  {
   "cell_type": "code",
   "execution_count": null,
   "metadata": {
    "colab": {
     "base_uri": "https://localhost:8080/",
     "height": 467
    },
    "id": "f3641bc3",
    "outputId": "37c79c13-b253-49e3-ccb1-40a78635b883"
   },
   "outputs": [],
   "source": [
    "# Merge the monthly spending by fund type and total monthly spending DataFrames\n",
    "merged_monthly_spending = pd.merge(\n",
    "    monthly_spending_by_fund_type,\n",
    "    total_monthly_spending,\n",
    "    on='month_year',\n",
    "    suffixes=('_fondo', '_total')\n",
    ")\n",
    "\n",
    "# Calculate the percentage of spending for each fund type relative to the total monthly spending\n",
    "merged_monthly_spending['percentage_of_total'] = (\n",
    "    merged_monthly_spending['importe_por_item_may25_fondo'] /\n",
    "    merged_monthly_spending['importe_por_item_may25_total']\n",
    ") * 100\n",
    "\n",
    "print(\"Monthly percentage of spending by fund type relative to the total monthly spending:\")\n",
    "display(merged_monthly_spending.head())\n",
    "\n",
    "print(\"\\nInformation about the monthly percentage spending by fund type dataframe:\")\n",
    "merged_monthly_spending.info()"
   ]
  },
  {
   "cell_type": "code",
   "execution_count": null,
   "metadata": {
    "colab": {
     "base_uri": "https://localhost:8080/",
     "height": 449
    },
    "id": "58d7f95e",
    "outputId": "716565f5-e761-48ef-a991-5b55091361af"
   },
   "outputs": [],
   "source": [
    "pivoted_monthly_percentage = merged_monthly_spending.pivot(\n",
    "    index='month_year',\n",
    "    columns='letra_fondo_',\n",
    "    values='percentage_of_total'\n",
    ").reset_index()\n",
    "\n",
    "print(\"Pivoted monthly percentage spending by fund type:\")\n",
    "display(pivoted_monthly_percentage.head())\n",
    "\n",
    "print(\"\\nInformation about the pivoted monthly percentage spending dataframe:\")\n",
    "pivoted_monthly_percentage.info()"
   ]
  },
  {
   "cell_type": "code",
   "execution_count": null,
   "metadata": {
    "colab": {
     "base_uri": "https://localhost:8080/"
    },
    "id": "06d84efd",
    "outputId": "2a2192ae-f0cd-4808-fe9a-bd17102fab08"
   },
   "outputs": [],
   "source": [
    "import matplotlib.pyplot as plt\n",
    "import seaborn as sb\n",
    "\n",
    "def plot_monthly_percentage_spending():\n",
    "    \"\"\"\n",
    "    Generates a time series plot showing the evolution of the percentage\n",
    "    of spending for each fund type relative to the total spending over time.\n",
    "    \"\"\"\n",
    "    plt.figure(figsize=(12, 6))\n",
    "    ax = plt.gca()\n",
    "\n",
    "    # Plot each fund type's percentage over time\n",
    "    for fund_type in ['A', 'N', 'R']:\n",
    "        if fund_type in pivoted_monthly_percentage.columns:\n",
    "            sb.lineplot(\n",
    "                data=pivoted_monthly_percentage,\n",
    "                x='month_year',\n",
    "                y=fund_type,\n",
    "                ax=ax,\n",
    "                label=f'Fondo {fund_type}'\n",
    "            )\n",
    "\n",
    "    # Set plot title and labels\n",
    "    ax.set_title('Evolución del Porcentaje del Gasto Mensual por Tipo de Fondo')\n",
    "    ax.set_xlabel('Mes')\n",
    "    ax.set_ylabel('Porcentaje del Gasto Total')\n",
    "\n",
    "    # Format y-axis labels to show percentages\n",
    "    ax.yaxis.set_major_formatter(plt.FuncFormatter(lambda x, _: f'{x:.1f}%'))\n",
    "\n",
    "    # Rotate x-axis labels for better readability\n",
    "    plt.xticks(rotation=45)\n",
    "\n",
    "    # Add a legend\n",
    "    ax.legend(title='Tipo de Fondo')\n",
    "\n",
    "    # Ensure layout is tight\n",
    "    plt.tight_layout()\n",
    "\n",
    "    # Display the plot\n",
    "    plt.show()\n",
    "\n",
    "print(\"Defined the plot_monthly_percentage_spending function.\")"
   ]
  },
  {
   "cell_type": "markdown",
   "metadata": {
    "id": "kDde-nSr06zg"
   },
   "source": [
    "  # Evolución del gasto por Fondos durante el período"
   ]
  },
  {
   "cell_type": "code",
   "execution_count": null,
   "metadata": {
    "colab": {
     "base_uri": "https://localhost:8080/",
     "height": 607
    },
    "id": "717134cb",
    "outputId": "3e95839c-95e2-4d4e-c5c5-6a93bcbcb216"
   },
   "outputs": [],
   "source": [
    "# Display the plot\n",
    "plot_monthly_percentage_spending()"
   ]
  },
  {
   "cell_type": "code",
   "execution_count": null,
   "metadata": {
    "colab": {
     "base_uri": "https://localhost:8080/",
     "height": 34
    },
    "id": "48a8ebc4",
    "outputId": "96e1bfaf-823a-4b05-e2ff-3873131033d6"
   },
   "outputs": [],
   "source": [
    "from ipywidgets import Dropdown\n",
    "\n",
    "# Get the unique list of office names\n",
    "unique_offices = spending_by_office_and_fondo_percentage['ofic_solicitante_'].unique().tolist()\n",
    "\n",
    "# Create a dropdown widget instance\n",
    "office_dropdown = Dropdown(\n",
    "    options=unique_offices,\n",
    "    description='Select Office:',\n",
    "    disabled=False,\n",
    ")\n",
    "\n",
    "print(\"Dropdown widget created for selecting offices.\")"
   ]
  },
  {
   "cell_type": "code",
   "execution_count": null,
   "metadata": {
    "colab": {
     "base_uri": "https://localhost:8080/",
     "height": 432
    },
    "id": "7656482f",
    "outputId": "0cf9c125-77a4-40a5-c24b-0e37b4b13999"
   },
   "outputs": [],
   "source": [
    "# Calculate total monthly spending by office\n",
    "total_monthly_spending_by_office = processed_df_filtered_programas.groupby(['ofic_solicitante_', 'month_year'])['importe_por_item_may25'].sum().reset_index()\n",
    "\n",
    "print(\"Total monthly spending by office:\")\n",
    "display(total_monthly_spending_by_office.head())\n",
    "\n",
    "print(\"\\nInformation about the total monthly spending by office dataframe:\")\n",
    "total_monthly_spending_by_office.info()"
   ]
  },
  {
   "cell_type": "code",
   "execution_count": null,
   "metadata": {
    "colab": {
     "base_uri": "https://localhost:8080/",
     "height": 449
    },
    "id": "XR9KuRx2vwtp",
    "outputId": "7d607c00-9096-4ee2-d973-b4595b2fe967"
   },
   "outputs": [],
   "source": [
    "# Concatenate the monthly spending dataframes for each fund type\n",
    "monthly_spending_by_fondo = pd.concat([monthly_spending_a, monthly_spending_r, monthly_spending_n], ignore_index=True)\n",
    "\n",
    "print(\"Combined monthly spending by office and fund type:\")\n",
    "display(monthly_spending_by_fondo.head())\n",
    "\n",
    "print(\"\\nInformation about the combined monthly spending by office and fund type dataframe:\")\n",
    "monthly_spending_by_fondo.info()"
   ]
  },
  {
   "cell_type": "code",
   "execution_count": null,
   "metadata": {
    "colab": {
     "base_uri": "https://localhost:8080/",
     "height": 484
    },
    "id": "79082c9f",
    "outputId": "d80963da-298d-44e0-833f-18ecf9d7945e"
   },
   "outputs": [],
   "source": [
    "# Merge the monthly spending by office and fund type with the total monthly spending by office\n",
    "monthly_spending_percentage_by_office_and_fondo = pd.merge(\n",
    "    monthly_spending_by_fondo, # Assuming monthly_spending_by_fondo is available from a previous step\n",
    "    total_monthly_spending_by_office,\n",
    "    on=['ofic_solicitante_', 'month_year'],\n",
    "    suffixes=('_fondo', '_total')\n",
    ")\n",
    "\n",
    "# Calculate the percentage of spending for each fund type relative to the total monthly spending for the office\n",
    "monthly_spending_percentage_by_office_and_fondo['percentage_of_office_total'] = (\n",
    "    monthly_spending_percentage_by_office_and_fondo['importe_por_item_may25_fondo'] /\n",
    "    monthly_spending_percentage_by_office_and_fondo['importe_por_item_may25_total']\n",
    ") * 100\n",
    "\n",
    "print(\"Monthly percentage of spending by fund type within each office's total monthly spending:\")\n",
    "display(monthly_spending_percentage_by_office_and_fondo.head())\n",
    "\n",
    "print(\"\\nInformation about the monthly percentage spending by office and fund type dataframe:\")\n",
    "monthly_spending_percentage_by_office_and_fondo.info()"
   ]
  },
  {
   "cell_type": "code",
   "execution_count": null,
   "metadata": {
    "colab": {
     "base_uri": "https://localhost:8080/"
    },
    "id": "92fd0a05",
    "outputId": "8c9187d0-8250-423d-ec1a-a111731b816a"
   },
   "outputs": [],
   "source": [
    "import matplotlib.pyplot as plt\n",
    "import seaborn as sb\n",
    "import pandas as pd # Import pandas\n",
    "\n",
    "def plot_monthly_percentage_spending_by_office_with_average(office_name, fund_type):\n",
    "    \"\"\"\n",
    "    Generates a time series plot showing the evolution of the percentage\n",
    "    of spending for a specific fund type relative to the office's total monthly spending\n",
    "    for a given office, and compares it to the overall average percentage for that fund type.\n",
    "\n",
    "    Args:\n",
    "        office_name (str): The name of the office to plot.\n",
    "        fund_type (str): The fund type ('A', 'R', or 'N').\n",
    "    \"\"\"\n",
    "    # Filter data for the selected office and fund type\n",
    "    office_data = monthly_spending_percentage_by_office_and_fondo[\n",
    "        (monthly_spending_percentage_by_office_and_fondo['ofic_solicitante_'] == office_name) &\n",
    "        (monthly_spending_percentage_by_office_and_fondo['letra_fondo_'] == fund_type)\n",
    "    ].copy()\n",
    "\n",
    "    # Check if office_data is empty\n",
    "    if office_data.empty:\n",
    "        print(f\"No data available for {office_name} with Fondo {fund_type}.\")\n",
    "        return\n",
    "\n",
    "    # Drop rows with NaN values in relevant columns before plotting\n",
    "    office_data.dropna(subset=['month_year', 'percentage_of_office_total', 'letra_fondo_'], inplace=True)\n",
    "\n",
    "    # Check if office_data is empty after dropping NaNs\n",
    "    if office_data.empty:\n",
    "        print(f\"No valid data remaining for {office_name} with Fondo {fund_type} after handling missing values.\")\n",
    "        return\n",
    "\n",
    "\n",
    "    plt.figure(figsize=(12, 6))\n",
    "    ax = plt.gca()\n",
    "\n",
    "    # Plot the percentage evolution for the specific office and fund type\n",
    "    sb.lineplot(\n",
    "        data=office_data,\n",
    "        x='month_year',\n",
    "        y='percentage_of_office_total',\n",
    "        ax=ax,\n",
    "        marker='o', # Add markers for clarity\n",
    "        label=f'{office_name} - Fondo {fund_type}' # Update label to include fund type\n",
    "    )\n",
    "\n",
    "    # Plot the overall percentage evolution for the SELECTED fund type\n",
    "    # Assuming 'pivoted_monthly_percentage' is available from a previous step\n",
    "    if 'pivoted_monthly_percentage' in globals():\n",
    "        if fund_type in pivoted_monthly_percentage.columns:\n",
    "             sb.lineplot(\n",
    "                data=pivoted_monthly_percentage,\n",
    "                x='month_year',\n",
    "                y=fund_type,\n",
    "                ax=ax,\n",
    "                color='red', # Make the average line stand out\n",
    "                linestyle='--', # Use a dashed line for the average\n",
    "                label=f'Promedio General Fondo {fund_type}'\n",
    "            )\n",
    "        else:\n",
    "            print(f\"Error: Fund type '{fund_type}' not found in pivoted_monthly_percentage DataFrame.\")\n",
    "    else:\n",
    "        print(\"Error: 'pivoted_monthly_percentage' DataFrame not found.\")\n",
    "\n",
    "\n",
    "    # Set plot title and labels\n",
    "    ax.set_title(f'Evolución Mensual del Porcentaje del Gasto: {office_name} - Fondo {fund_type} vs Promedio General')\n",
    "    ax.set_xlabel('Mes')\n",
    "    ax.set_ylabel('Porcentaje del Gasto Total del Hospital')\n",
    "\n",
    "    # Format y-axis labels to show percentages with dollar sign\n",
    "    ax.yaxis.set_major_formatter(plt.FuncFormatter(lambda x, _: f'${x:.1f}%'))\n",
    "\n",
    "    # Rotate x-axis labels for better readability\n",
    "    plt.xticks(rotation=45)\n",
    "\n",
    "    # Add a legend\n",
    "    ax.legend(title='Serie de Gasto')\n",
    "\n",
    "    # Ensure layout is tight\n",
    "    plt.tight_layout()\n",
    "\n",
    "    # Display the plot\n",
    "    plt.show()\n",
    "\n",
    "print(\"Modified the plot_monthly_percentage_spending_by_office_with_average function to plot only the overall percentage for the selected fund type.\")"
   ]
  },
  {
   "cell_type": "code",
   "execution_count": null,
   "metadata": {
    "colab": {
     "base_uri": "https://localhost:8080/",
     "height": 484
    },
    "id": "08359b03",
    "outputId": "7e0caabf-7cb3-4208-9b07-88b2bc0ecf37"
   },
   "outputs": [],
   "source": [
    "print(\"Monthly percentage of spending by fund type within each office's total monthly spending:\")\n",
    "display(monthly_spending_percentage_by_office_and_fondo.head())\n",
    "\n",
    "print(\"\\nInformation about the monthly percentage spending by office and fund type dataframe:\")\n",
    "monthly_spending_percentage_by_office_and_fondo.info()"
   ]
  },
  {
   "cell_type": "code",
   "execution_count": null,
   "metadata": {
    "colab": {
     "base_uri": "https://localhost:8080/",
     "height": 467
    },
    "id": "c0f5231f",
    "outputId": "cdd98fa9-36d7-430a-f938-422d8a96a1cf"
   },
   "outputs": [],
   "source": [
    "# Pivot the monthly_spending_percentage_by_office_and_fondo dataframe to have fund types as columns\n",
    "monthly_spending_wide = monthly_spending_percentage_by_office_and_fondo.pivot_table(\n",
    "    index=['ofic_solicitante_', 'month_year'],\n",
    "    columns='letra_fondo_',\n",
    "    values='importe_por_item_may25_fondo'\n",
    ").reset_index()\n",
    "\n",
    "# Rename the columns for clarity\n",
    "monthly_spending_wide.columns.name = None # Remove the columns name\n",
    "monthly_spending_wide = monthly_spending_wide.rename(columns={\n",
    "    'A': 'Fondo A Spending',\n",
    "    'R': 'Fondo R Spending',\n",
    "    'N': 'Fondo N Spending'\n",
    "})\n",
    "\n",
    "print(\"Monthly spending by office with separate columns for each fund type:\")\n",
    "display(monthly_spending_wide.head())\n",
    "\n",
    "print(\"\\nInformation about the monthly spending wide dataframe:\")\n",
    "monthly_spending_wide.info()"
   ]
  },
  {
   "cell_type": "code",
   "execution_count": null,
   "metadata": {
    "colab": {
     "base_uri": "https://localhost:8080/",
     "height": 279
    },
    "id": "7a93984d",
    "outputId": "e8569cf3-6e00-45c9-8690-a2081159081c"
   },
   "outputs": [],
   "source": [
    "print(\"Unique values in 'letra_fondo_' column of monthly_spending_percentage_by_office_and_fondo:\")\n",
    "display(monthly_spending_percentage_by_office_and_fondo['letra_fondo_'].unique())\n",
    "\n",
    "print(\"\\nValue counts of 'letra_fondo_' column of monthly_spending_percentage_by_office_and_fondo:\")\n",
    "display(monthly_spending_percentage_by_office_and_fondo['letra_fondo_'].value_counts())"
   ]
  },
  {
   "cell_type": "code",
   "execution_count": null,
   "metadata": {
    "colab": {
     "base_uri": "https://localhost:8080/",
     "height": 400
    },
    "id": "36c8b9d0",
    "outputId": "aa45c5b5-d534-42b9-9ba5-db154986d0eb"
   },
   "outputs": [],
   "source": [
    "print(\"Shape of monthly_spending_percentage_by_office_and_fondo:\", monthly_spending_percentage_by_office_and_fondo.shape)\n",
    "print(\"\\nList of columns in monthly_spending_percentage_by_office_and_fondo:\")\n",
    "print(list(monthly_spending_percentage_by_office_and_fondo.columns))\n",
    "\n",
    "# Try accessing the column using .get() which returns None instead of raising an error\n",
    "letra_fondo_column = monthly_spending_percentage_by_office_and_fondo.get('letra_fondo_')\n",
    "\n",
    "if letra_fondo_column is not None:\n",
    "    print(\"\\n'letra_fondo_' column successfully accessed using .get().\")\n",
    "    print(\"\\nUnique values in 'letra_fondo_' column:\")\n",
    "    display(letra_fondo_column.unique())\n",
    "    print(\"\\nValue counts of 'letra_fondo_' column:\")\n",
    "    display(letra_fondo_column.value_counts())\n",
    "else:\n",
    "    print(\"\\n'letra_fondo_' column could not be accessed using .get().\")"
   ]
  },
  {
   "cell_type": "code",
   "execution_count": null,
   "metadata": {
    "colab": {
     "base_uri": "https://localhost:8080/",
     "height": 536
    },
    "id": "1181aee4",
    "outputId": "8a5bb27d-1b55-4676-becf-16a1c3e72cce"
   },
   "outputs": [],
   "source": [
    "print(\"Columns in monthly_spending_by_fondo:\")\n",
    "display(monthly_spending_by_fondo.columns)\n",
    "\n",
    "print(\"\\nFirst 5 rows of monthly_spending_by_fondo:\")\n",
    "display(monthly_spending_by_fondo.head())\n",
    "\n",
    "print(\"\\nInformation about monthly_spending_by_fondo:\")\n",
    "monthly_spending_by_fondo.info()"
   ]
  },
  {
   "cell_type": "code",
   "execution_count": null,
   "metadata": {
    "colab": {
     "base_uri": "https://localhost:8080/"
    },
    "id": "8acd4f62",
    "outputId": "84d24124-0648-4a56-ecf4-75472ff9f505"
   },
   "outputs": [],
   "source": [
    "import matplotlib.pyplot as plt\n",
    "import seaborn as sb\n",
    "import pandas as pd # Import pandas\n",
    "\n",
    "def plot_monthly_percentage_spending_by_office_with_average(office_name, fund_type):\n",
    "    \"\"\"\n",
    "    Generates a time series plot showing the evolution of the percentage\n",
    "    of spending for a specific fund type relative to the office's total monthly spending\n",
    "    for a given office, and compares it to the overall average percentage for that fund type.\n",
    "\n",
    "    Args:\n",
    "        office_name (str): The name of the office to plot.\n",
    "        fund_type (str): The fund type ('A', 'R', 'N').\n",
    "    \"\"\"\n",
    "    # Filter data for the selected office and fund type\n",
    "    office_data = monthly_spending_percentage_by_office_and_fondo[\n",
    "        (monthly_spending_percentage_by_office_and_fondo['ofic_solicitante_'] == office_name) &\n",
    "        (monthly_spending_percentage_by_office_and_fondo['letra_fondo_'] == fund_type)\n",
    "    ].copy()\n",
    "\n",
    "    # Check if office_data is empty\n",
    "    if office_data.empty:\n",
    "        print(f\"No data available for {office_name} with Fondo {fund_type}.\")\n",
    "        return\n",
    "\n",
    "    # Drop rows with NaN values in relevant columns before plotting\n",
    "    office_data.dropna(subset=['month_year', 'percentage_of_office_total', 'letra_fondo_'], inplace=True)\n",
    "\n",
    "    # Check if office_data is empty after dropping NaNs\n",
    "    if office_data.empty:\n",
    "        print(f\"No valid data remaining for {office_name} with Fondo {fund_type} after handling missing values.\")\n",
    "        return\n",
    "\n",
    "\n",
    "    plt.figure(figsize=(12, 6))\n",
    "    ax = plt.gca()\n",
    "\n",
    "    # Plot the percentage evolution for the specific office and fund type\n",
    "    sb.lineplot(\n",
    "        data=office_data,\n",
    "        x='month_year',\n",
    "        y='percentage_of_office_total',\n",
    "        ax=ax,\n",
    "        marker='o', # Add markers for clarity\n",
    "        label=f'{office_name} - Fondo {fund_type}' # Update label to include fund type\n",
    "    )\n",
    "\n",
    "    # Plot the overall percentage evolution for the SELECTED fund type\n",
    "    # Assuming 'pivoted_monthly_percentage' is available from a previous step\n",
    "    if 'pivoted_monthly_percentage' in globals():\n",
    "        if fund_type in pivoted_monthly_percentage.columns:\n",
    "             sb.lineplot(\n",
    "                data=pivoted_monthly_percentage,\n",
    "                x='month_year',\n",
    "                y=fund_type,\n",
    "                ax=ax,\n",
    "                color='red', # Make the average line stand out\n",
    "                linestyle='--', # Use a dashed line for the average\n",
    "                label=f'Promedio General Fondo {fund_type}'\n",
    "            )\n",
    "        else:\n",
    "            print(f\"Error: Fund type '{fund_type}' not found in pivoted_monthly_percentage DataFrame.\")\n",
    "    else:\n",
    "        print(\"Error: 'pivoted_monthly_percentage' DataFrame not found.\")\n",
    "\n",
    "\n",
    "    # Set plot title and labels\n",
    "    ax.set_title(f'Evolución Mensual del Porcentaje del Gasto: {office_name} - Fondo {fund_type} vs Promedio General')\n",
    "    ax.set_xlabel('Mes')\n",
    "    ax.set_ylabel('Porcentaje del Gasto Total del Hospital')\n",
    "\n",
    "    # Format y-axis labels to show percentages\n",
    "    ax.yaxis.set_major_formatter(plt.FuncFormatter(lambda x, _: f'{x:.1f}%'))\n",
    "\n",
    "    # Rotate x-axis labels for better readability\n",
    "    plt.xticks(rotation=45)\n",
    "\n",
    "    # Add a legend\n",
    "    ax.legend(title='Serie de Gasto')\n",
    "\n",
    "    # Ensure layout is tight\n",
    "    plt.tight_layout()\n",
    "\n",
    "    # Display the plot\n",
    "    plt.show()\n",
    "\n",
    "print(\"Modified the plot_monthly_percentage_spending_by_office_with_average function to plot only the overall percentage for the selected fund type.\")"
   ]
  },
  {
   "cell_type": "code",
   "execution_count": null,
   "metadata": {
    "colab": {
     "base_uri": "https://localhost:8080/",
     "height": 161
    },
    "id": "c340f1b6",
    "outputId": "0b293a17-acac-4f11-cdde-cb6f11a0370a"
   },
   "outputs": [],
   "source": [
    "# 1. Calculate overall fund type spending\n",
    "overall_fund_type_spending = processed_df_filtered_programas.groupby('letra_fondo_')['importe_por_item_may25'].sum().reset_index()\n",
    "\n",
    "print(\"Overall adjusted spending by fund type:\")\n",
    "display(overall_fund_type_spending)"
   ]
  },
  {
   "cell_type": "code",
   "execution_count": null,
   "metadata": {
    "colab": {
     "base_uri": "https://localhost:8080/"
    },
    "id": "ddbe2229",
    "outputId": "60f20d62-57ea-4b0b-b721-e294c88b9bd1"
   },
   "outputs": [],
   "source": [
    "# 2. Calculate total overall spending\n",
    "total_overall_spending = processed_df_filtered_programas['importe_por_item_may25'].sum()\n",
    "\n",
    "print(f\"Total overall adjusted spending across all funds and hospitals: {total_overall_spending:.2f}\")"
   ]
  },
  {
   "cell_type": "code",
   "execution_count": null,
   "metadata": {
    "colab": {
     "base_uri": "https://localhost:8080/",
     "height": 161
    },
    "id": "f16f5b06",
    "outputId": "5277ea27-2ad4-4a61-ccac-f91d416de41d"
   },
   "outputs": [],
   "source": [
    "# 3. Calculate overall fund type percentages\n",
    "overall_fund_type_percentages = overall_fund_type_spending.copy()\n",
    "overall_fund_type_percentages['percentage'] = (overall_fund_type_percentages['importe_por_item_may25'] / total_overall_spending) * 100\n",
    "\n",
    "print(\"Overall percentage of spending by fund type:\")\n",
    "display(overall_fund_type_percentages)"
   ]
  },
  {
   "cell_type": "code",
   "execution_count": null,
   "metadata": {
    "colab": {
     "base_uri": "https://localhost:8080/"
    },
    "id": "b5e71593",
    "outputId": "79b3a578-f510-4f5b-8fd2-639aba21de99"
   },
   "outputs": [],
   "source": [
    "def generate_office_fund_percentage_table(office_name):\n",
    "    \"\"\"\n",
    "    Generates a table showing the percentage of spending by fund type for a selected office\n",
    "    compared to the percentage for all other hospitals combined (within Fundos A, R, N spending),\n",
    "    along with a comparison.\n",
    "\n",
    "    Args:\n",
    "        office_name (str): The name of the office to analyze.\n",
    "    \"\"\"\n",
    "    # Filter data for the selected office and only include Fundos A, R, N\n",
    "    selected_office_spending_funds = spending_by_office_and_fondo[\n",
    "        (spending_by_office_and_fondo['ofic_solicitante_'] == office_name) &\n",
    "        (spending_by_office_and_fondo['letra_fondo_'].isin(['A', 'R', 'N']))\n",
    "    ].copy()\n",
    "\n",
    "    # Calculate the selected office's total spending from Fundos A, R, and N\n",
    "    selected_office_total_funds_spending = selected_office_spending_funds['importe_por_item_may25'].sum()\n",
    "\n",
    "    # Calculate percentage of each fund type within the selected office's Fundos A, R, N spending\n",
    "    selected_office_spending_funds['percentage_office'] = (\n",
    "        selected_office_spending_funds['importe_por_item_may25'] / selected_office_total_funds_spending\n",
    "    ) * 100 if selected_office_total_funds_spending > 0 else 0\n",
    "\n",
    "\n",
    "    # Calculate spending for all offices except the selected one, only for Fundos A, R, N\n",
    "    other_hospitals_spending_funds = spending_by_office_and_fondo[\n",
    "        (spending_by_office_and_fondo['ofic_solicitante_'] != office_name) &\n",
    "        (spending_by_office_and_fondo['letra_fondo_'].isin(['A', 'R', 'N']))\n",
    "    ].groupby('letra_fondo_')['importe_por_item_may25'].sum().reset_index()\n",
    "\n",
    "    # Calculate total spending for all other hospitals combined from Fundos A, R, N\n",
    "    total_other_hospitals_funds_spending = other_hospitals_spending_funds['importe_por_item_may25'].sum()\n",
    "\n",
    "\n",
    "    # Calculate percentages for other hospitals relative to their total Fundos A, R, N spending\n",
    "    other_hospitals_spending_funds['percentage_other_hospitals'] = (\n",
    "        other_hospitals_spending_funds['importe_por_item_may25'] / total_other_hospitals_funds_spending\n",
    "    ) * 100 if total_other_hospitals_funds_spending > 0 else 0\n",
    "\n",
    "\n",
    "    # Merge selected office data with other hospitals data\n",
    "    comparison_table = pd.merge(\n",
    "        selected_office_spending_funds[['letra_fondo_', 'percentage_office']],\n",
    "        other_hospitals_spending_funds[['letra_fondo_', 'percentage_other_hospitals']],\n",
    "        on='letra_fondo_',\n",
    "        how='outer' # Use outer merge to include all fund types if one is missing in either group\n",
    "    )\n",
    "\n",
    "    # Fill NaN percentages with 0 if a fund type is missing for a hospital or other hospitals\n",
    "    comparison_table['percentage_office'] = comparison_table['percentage_office'].fillna(0)\n",
    "    comparison_table['percentage_other_hospitals'] = comparison_table['percentage_other_hospitals'].fillna(0)\n",
    "\n",
    "    # Rename columns for clarity (in Spanish)\n",
    "    comparison_table = comparison_table.rename(columns={\n",
    "        'letra_fondo_': 'Tipo de Fondo',\n",
    "        'percentage_office': f'Porcentaje {office_name}',\n",
    "        'percentage_other_hospitals': 'Porcentaje Otros Hospitales'\n",
    "    })\n",
    "\n",
    "    # Add comparison column (in Spanish)\n",
    "    comparison_table['Supera a Otros Hospitales'] = comparison_table[f'Porcentaje {office_name}'] > comparison_table['Porcentaje Otros Hospitales']\n",
    "\n",
    "    # Translate boolean values to Spanish\n",
    "    comparison_table['Supera a Otros Hospitales'] = comparison_table['Supera a Otros Hospitales'].map({True: 'Sí', False: 'No'})\n",
    "\n",
    "\n",
    "    # Display the table with percentage formatting\n",
    "    print(f\"\\nComparación de Porcentaje de Gasto por Fondo (solo Fondos A, R, N) para {office_name} vs Otros Hospitales:\")\n",
    "    display(comparison_table.style.format({\n",
    "        f'Porcentaje {office_name}': '${:.2f}%',\n",
    "        'Porcentaje Otros Hospitales': '${:.2f}%'\n",
    "    }))\n",
    "\n",
    "print(\"Modified the generate_office_fund_percentage_table function to calculate percentages relative to Fundos A, R, N spending.\")"
   ]
  },
  {
   "cell_type": "code",
   "execution_count": null,
   "metadata": {
    "colab": {
     "base_uri": "https://localhost:8080/",
     "height": 34
    },
    "id": "e7942aa4",
    "outputId": "8f039797-4564-4e5a-f4e8-b405957f73c1"
   },
   "outputs": [],
   "source": [
    "from ipywidgets import Dropdown\n",
    "\n",
    "# Get the unique list of office names\n",
    "unique_offices = processed_df_filtered_programas['ofic_solicitante_'].unique().tolist()\n",
    "\n",
    "# Create a dropdown widget instance\n",
    "office_dropdown_table = Dropdown(\n",
    "    options=unique_offices,\n",
    "    description='Select Office:',\n",
    "    disabled=False,\n",
    ")\n",
    "\n",
    "print(\"Dropdown widget created for selecting offices for the table dashboard.\")"
   ]
  },
  {
   "cell_type": "code",
   "execution_count": null,
   "metadata": {
    "id": "L9M39Qq9wZ5M"
   },
   "outputs": [],
   "source": []
  },
  {
   "cell_type": "markdown",
   "metadata": {
    "id": "Q6fjYE0UVC1i"
   },
   "source": [
    "# Gasto por fondos CCH: composición A, R y N- Tabla comparativa\n"
   ]
  },
  {
   "cell_type": "code",
   "execution_count": null,
   "metadata": {
    "colab": {
     "base_uri": "https://localhost:8080/",
     "height": 228,
     "referenced_widgets": [
      "3131342b7037434d9987f06ef5ae6ee3",
      "c437926c53314e0097cf20540d67e267",
      "4b4266fe426f49f3a96fe238fc65b79c",
      "8db0bc026ea04a23bf800ca48d2152a9",
      "d3dfd4a1f21f48b49f27e7adc3a52e30",
      "95d56b57e2e34b5f89990cfcee5c87c7",
      "f0070c69431144ef857706725f48ff58"
     ]
    },
    "id": "253d66ba",
    "outputId": "318fcc1d-81e9-41ba-e4af-eed2273d3814"
   },
   "outputs": [],
   "source": [
    "from ipywidgets import interactive\n",
    "from IPython.display import display\n",
    "\n",
    "# Assuming office_dropdown_table and generate_office_fund_percentage_table are already defined and available\n",
    "\n",
    "# Link the dropdown to the plotting function using interactive\n",
    "interactive_table_dashboard = interactive(generate_office_fund_percentage_table, office_name=office_dropdown_table)\n",
    "\n",
    "# Display the interactive dashboard\n",
    "display(interactive_table_dashboard)\n",
    "\n",
    "print(\"Interactive table dashboard linked and displayed.\")"
   ]
  },
  {
   "cell_type": "code",
   "execution_count": null,
   "metadata": {
    "colab": {
     "base_uri": "https://localhost:8080/",
     "height": 34
    },
    "id": "76d85f37",
    "outputId": "630c7a20-52be-4341-fbd5-2abbdd8b3770"
   },
   "outputs": [],
   "source": [
    "def get_top_spending_items_by_office_and_fondo(df, fund_type, n_top_items=5):\n",
    "    \"\"\"\n",
    "    Filters a DataFrame by fund type and returns the top spending items\n",
    "    for each office within that fund.\n",
    "\n",
    "    Args:\n",
    "        df (pd.DataFrame): The input DataFrame (processed_df_filtered_programas).\n",
    "        fund_type (str): The fund type ('A', 'R', or 'N').\n",
    "        n_top_items (int): The number of top spending items to retrieve for each office.\n",
    "\n",
    "    Returns:\n",
    "        pd.DataFrame: A DataFrame containing the top spending items for each office\n",
    "                      within the specified fund.\n",
    "    \"\"\"\n",
    "    # Filter by fund type\n",
    "    fund_df = df[df['letra_fondo_'] == fund_type].copy()\n",
    "\n",
    "    # Group by office and description, then sum the adjusted spending and sort\n",
    "    top_items = fund_df.groupby(['ofic_solicitante_', 'descripcion_del_bien_'])['importe_por_item_may25'].sum().reset_index()\n",
    "    top_items_sorted = top_items.sort_values(['ofic_solicitante_', 'importe_por_item_may25'], ascending=[True, False])\n",
    "\n",
    "    # Get the top N items for each office\n",
    "    top_n_items_by_office = top_items_sorted.groupby('ofic_solicitante_').head(n_top_items).reset_index(drop=True)\n",
    "\n",
    "    return top_n_items_by_office\n",
    "\n",
    "# Get unique office names for the dropdown\n",
    "unique_offices_for_items = processed_df_filtered_programas['ofic_solicitante_'].unique().tolist()\n",
    "\n",
    "# Create dropdowns for office and fund type\n",
    "office_dropdown_items = Dropdown(\n",
    "    options=unique_offices_for_items,\n",
    "    description='Select Office:',\n",
    "    disabled=False,\n",
    ")\n",
    "\n",
    "fund_dropdown_items = Dropdown(\n",
    "    options=['A', 'R', 'N'],\n",
    "    description='Select Fund Type:',\n",
    "    disabled=False,\n",
    ")\n",
    "\n",
    "# Define a function to display the table based on dropdown selections\n",
    "def display_top_items_table(office_name, fund_type):\n",
    "    \"\"\"\n",
    "    Displays the top spending items table for the selected office and fund type.\n",
    "    \"\"\"\n",
    "    top_items_df = get_top_spending_items_by_office_and_fondo(processed_df_filtered_programas, fund_type)\n",
    "    office_top_items = top_items_df[top_items_df['ofic_solicitante_'] == office_name].copy()\n",
    "\n",
    "    print(f\"\\nTop Spending Items for {office_name} - Fondo {fund_type} (Adjusted to May 2025 Prices):\")\n",
    "    display(office_top_items.style.format({'importe_por_item_may25': '${:,.2f}'}))\n",
    "\n",
    "\n",
    "# Create an interactive dashboard to display the table\n",
    "interactive_top_items_table = interactive(display_top_items_table, office_name=office_dropdown_items, fund_type=fund_dropdown_items)\n",
    "\n",
    "print(\"Created a function to get top spending items by office and fund type, and dropdowns for interactive display.\")"
   ]
  },
  {
   "cell_type": "markdown",
   "metadata": {
    "id": "daac39e9"
   },
   "source": [
    "# Top Gastos por Fondo por hospital\n"
   ]
  },
  {
   "cell_type": "code",
   "execution_count": null,
   "metadata": {
    "colab": {
     "base_uri": "https://localhost:8080/",
     "height": 322,
     "referenced_widgets": [
      "5cacc3cc204a4d0481d650163cbb880c",
      "90f7c3fa139e462ba0ad819987f07e34",
      "40b12892162043a6af5ee702bc9de9ec",
      "44f1fce297b146248e1c22a44469775b",
      "a1294c0289294ca1b8048353674da27e",
      "59c30e8b180c4261b9700d1113d03411",
      "a671de0c46c148338e5a761625d0b1d5",
      "1b3eb8ab64424aa1a1f66462f334835a",
      "bc4cdc6b53d7401eb1f8ddc7c7e71983",
      "5d3d45f4070a4edb812b7b01b48b27a9"
     ]
    },
    "id": "697fa271",
    "outputId": "edb2637b-a1eb-419b-9c34-42e5e4b882ce"
   },
   "outputs": [],
   "source": [
    "# Display the interactive dashboard\n",
    "display(interactive_top_items_table)\n",
    "\n",
    "print(\"Interactive dashboard for top spending items linked and displayed.\")"
   ]
  },
  {
   "cell_type": "code",
   "execution_count": null,
   "metadata": {
    "colab": {
     "base_uri": "https://localhost:8080/"
    },
    "id": "9bc95513",
    "outputId": "80f6adca-1116-413a-b5e5-402374b01ac0"
   },
   "outputs": [],
   "source": [
    "def get_top_spending_items_by_office_fondo_and_month(df, office_name, fund_type, selected_month):\n",
    "    \"\"\"\n",
    "    Filters a DataFrame by office, fund type, and month, and returns the top spending items.\n",
    "\n",
    "    Args:\n",
    "        df (pd.DataFrame): The input DataFrame (processed_df_filtered_programas).\n",
    "        office_name (str): The name of the office to filter by.\n",
    "        fund_type (str): The fund type ('A', 'R', or 'N') to filter by.\n",
    "        selected_month (pd.Timestamp): The month to filter by.\n",
    "\n",
    "    Returns:\n",
    "        pd.DataFrame: A DataFrame containing the top spending items for the selected\n",
    "                      office, fund type, and month.\n",
    "    \"\"\"\n",
    "    # Filter by office, fund type, and month\n",
    "    filtered_df = df[\n",
    "        (df['ofic_solicitante_'] == office_name) &\n",
    "        (df['letra_fondo_'] == fund_type) &\n",
    "        (df['month_year'] == selected_month)\n",
    "    ].copy()\n",
    "\n",
    "    # Group by description, sum spending, and sort\n",
    "    top_items = filtered_df.groupby('descripcion_del_bien_')['importe_por_item_may25'].sum().reset_index()\n",
    "    top_items_sorted = top_items.sort_values('importe_por_item_may25', ascending=False)\n",
    "\n",
    "    # Get the top 10 items\n",
    "    top_10_items = top_items_sorted.head(10).reset_index(drop=True)\n",
    "\n",
    "    return top_10_items\n",
    "\n",
    "print(\"Defined the function to get top spending items by office, fund type, and month.\")"
   ]
  },
  {
   "cell_type": "code",
   "execution_count": null,
   "metadata": {
    "colab": {
     "base_uri": "https://localhost:8080/",
     "height": 34
    },
    "id": "4ab1460a",
    "outputId": "8afd95d0-a032-4f44-a7b4-1f366ef3697e"
   },
   "outputs": [],
   "source": [
    "from ipywidgets import Dropdown\n",
    "import pandas as pd\n",
    "\n",
    "# Get unique office names\n",
    "unique_offices = processed_df_filtered_programas['ofic_solicitante_'].unique().tolist()\n",
    "\n",
    "# Get unique months with data\n",
    "unique_months = sorted(processed_df_filtered_programas['month_year'].unique().tolist())\n",
    "\n",
    "# Create dropdowns for office, fund type, and month\n",
    "office_dropdown_monthly_items = Dropdown(\n",
    "    options=unique_offices,\n",
    "    description='Select Office:',\n",
    "    disabled=False,\n",
    ")\n",
    "\n",
    "fund_dropdown_monthly_items = Dropdown(\n",
    "    options=['A', 'R', 'N'],\n",
    "    description='Select Fund Type:',\n",
    "    disabled=False,\n",
    ")\n",
    "\n",
    "month_dropdown_monthly_items = Dropdown(\n",
    "    options=unique_months,\n",
    "    description='Select Month:',\n",
    "    disabled=False,\n",
    ")\n",
    "\n",
    "print(\"Dropdown widgets for office, fund type, and month created.\")"
   ]
  },
  {
   "cell_type": "code",
   "execution_count": null,
   "metadata": {
    "colab": {
     "base_uri": "https://localhost:8080/",
     "height": 34
    },
    "id": "dfda8963",
    "outputId": "34b08594-5fa5-478b-a980-a34547a1f92d"
   },
   "outputs": [],
   "source": [
    "from ipywidgets import interactive\n",
    "from IPython.display import display\n",
    "import pandas as pd # Import pandas\n",
    "\n",
    "def display_top_monthly_items_table(office_name, fund_type, selected_month):\n",
    "    \"\"\"\n",
    "    Displays the top spending items table for the selected office, fund type, and month.\n",
    "    \"\"\"\n",
    "    top_items_df = get_top_spending_items_by_office_fondo_and_month(\n",
    "        processed_df_filtered_programas,\n",
    "        office_name,\n",
    "        fund_type,\n",
    "        selected_month\n",
    "    )\n",
    "\n",
    "    if top_items_df.empty:\n",
    "        print(f\"No spending data available for {office_name}, Fondo {fund_type} in {selected_month.strftime('%Y-%m')}.\")\n",
    "    else:\n",
    "        print(f\"\\nTop 10 Spending Items for {office_name} - Fondo {fund_type} in {selected_month.strftime('%Y-%m')} (Adjusted to May 2025 Prices):\")\n",
    "        display(top_items_df.style.format({'importe_por_item_may25': '${:,.2f}'}))\n",
    "\n",
    "\n",
    "# Create an interactive dashboard to display the table\n",
    "interactive_top_monthly_items_table = interactive(\n",
    "    display_top_monthly_items_table,\n",
    "    office_name=office_dropdown_monthly_items,\n",
    "    fund_type=fund_dropdown_monthly_items,\n",
    "    selected_month=month_dropdown_monthly_items\n",
    ")\n",
    "\n",
    "print(\"Created a function to display the top monthly items table and an interactive dashboard.\")"
   ]
  },
  {
   "cell_type": "code",
   "execution_count": null,
   "metadata": {
    "colab": {
     "base_uri": "https://localhost:8080/",
     "height": 494,
     "referenced_widgets": [
      "67bd1bbb83224ac6b023512efffc9b1c",
      "876d9e12536c48b59705c41510176864",
      "00e2dd37e6794539afc716a8c7c3d921",
      "e1f06808a2bc4925b8b457eab573d027",
      "920049ea30cc44b6be899b0f8064fc3f",
      "008264c21ee7490c94689c81e80f4fa2",
      "8217a35ef2ed44bbbe54eaf75570261a",
      "3d0420add80f4a67a77c96daf1f0188b",
      "ae9327c8de3046d3b5137790710aa36a",
      "ab22dec0dc5a4938abe3df59c32fe7e3",
      "6fa2434e2f124d0ab70c7c64a75ebf41",
      "f0e6c11a365d4dc2bd804eb2fa863654",
      "483ed69ddf2543fba4693dcbcdc8c3e7"
     ]
    },
    "id": "eb20cd76",
    "outputId": "8e2c9402-ab21-4c4c-e458-be2a3a181bfc"
   },
   "outputs": [],
   "source": [
    "from IPython.display import display\n",
    "\n",
    "# Display the interactive dashboard for top monthly spending items\n",
    "display(interactive_top_monthly_items_table)"
   ]
  }
 ],
 "metadata": {
  "colab": {
   "provenance": [],
   "toc_visible": true
  },
  "kernelspec": {
   "display_name": "Python 3 (ipykernel)",
   "language": "python",
   "name": "python3"
  },
  "language_info": {
   "codemirror_mode": {
    "name": "ipython",
    "version": 3
   },
   "file_extension": ".py",
   "mimetype": "text/x-python",
   "name": "python",
   "nbconvert_exporter": "python",
   "pygments_lexer": "ipython3",
   "version": "3.11.7"
  }
 },
 "nbformat": 4,
 "nbformat_minor": 4
}